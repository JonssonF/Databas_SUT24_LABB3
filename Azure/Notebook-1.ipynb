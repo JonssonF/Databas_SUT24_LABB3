{
    "metadata": {
        "kernelspec": {
            "name": "SQL",
            "display_name": "SQL",
            "language": "sql"
        },
        "language_info": {
            "name": "sql",
            "version": ""
        }
    },
    "nbformat_minor": 2,
    "nbformat": 4,
    "cells": [
        {
            "cell_type": "markdown",
            "source": [
                "### \n",
                "\n",
                "- \\[ \\] Hämta personal\n",
                "    \n",
                "    Databasadministratören får välja om denna vill se alla anställda, eller bara inom en av kategorierna så som ex lärare. (Skriv t.ex. två queries eller lös det på annat vis med hjälp av stored procedure)"
            ],
            "metadata": {
                "azdata_cell_guid": "ae36dcaf-7d72-4560-ac86-029ead812eb8"
            },
            "attachments": {}
        },
        {
            "cell_type": "code",
            "source": [
                "USE LabbSchool\r\n",
                "\r\n",
                "SELECT * FROM Staff;"
            ],
            "metadata": {
                "azdata_cell_guid": "ada01911-8edc-4c88-af0d-774ed6925ca8",
                "language": "sql"
            },
            "outputs": [
                {
                    "output_type": "display_data",
                    "data": {
                        "text/html": "(15 rows affected)"
                    },
                    "metadata": {}
                },
                {
                    "output_type": "display_data",
                    "data": {
                        "text/html": "Total execution time: 00:00:00.007"
                    },
                    "metadata": {}
                },
                {
                    "output_type": "execute_result",
                    "execution_count": 1,
                    "data": {
                        "application/vnd.dataresource+json": {
                            "schema": {
                                "fields": [
                                    {
                                        "name": "StaffId"
                                    },
                                    {
                                        "name": "FirstName"
                                    },
                                    {
                                        "name": "LastName"
                                    },
                                    {
                                        "name": "Email"
                                    },
                                    {
                                        "name": "DoB"
                                    },
                                    {
                                        "name": "Role"
                                    }
                                ]
                            },
                            "data": [
                                {
                                    "StaffId": "1",
                                    "FirstName": "John",
                                    "LastName": "Doe",
                                    "Email": "j.doe@highschool.com",
                                    "DoB": "1970-05-15",
                                    "Role": "Principal"
                                },
                                {
                                    "StaffId": "2",
                                    "FirstName": "Mary",
                                    "LastName": "Smith",
                                    "Email": "m.smith@highschool.com",
                                    "DoB": "1978-10-22",
                                    "Role": "Janitor"
                                },
                                {
                                    "StaffId": "3",
                                    "FirstName": "Emily",
                                    "LastName": "Johnson",
                                    "Email": "e.johnson@highschool.com",
                                    "DoB": "1985-03-09",
                                    "Role": "School Nurse"
                                },
                                {
                                    "StaffId": "4",
                                    "FirstName": "Paul",
                                    "LastName": "Brown",
                                    "Email": "p.brown@highschool.com",
                                    "DoB": "1982-07-14",
                                    "Role": "Counselor"
                                },
                                {
                                    "StaffId": "5",
                                    "FirstName": "Sophia",
                                    "LastName": "Miller",
                                    "Email": "s.miller@highschool.com",
                                    "DoB": "1976-11-04",
                                    "Role": "Kitchen Chef"
                                },
                                {
                                    "StaffId": "6",
                                    "FirstName": "James",
                                    "LastName": "Anderson",
                                    "Email": "j.anderson@highschool.com",
                                    "DoB": "1980-01-17",
                                    "Role": "Teacher"
                                },
                                {
                                    "StaffId": "7",
                                    "FirstName": "Linda",
                                    "LastName": "Taylor",
                                    "Email": "l.taylor@highschool.com",
                                    "DoB": "1986-04-05",
                                    "Role": "Teacher"
                                },
                                {
                                    "StaffId": "8",
                                    "FirstName": "Robert",
                                    "LastName": "Moore",
                                    "Email": "r.moore@highschool.com",
                                    "DoB": "1983-08-19",
                                    "Role": "Teacher"
                                },
                                {
                                    "StaffId": "9",
                                    "FirstName": "Patricia",
                                    "LastName": "Wilson",
                                    "Email": "p.wilson@highschool.com",
                                    "DoB": "1979-12-10",
                                    "Role": "Teacher"
                                },
                                {
                                    "StaffId": "10",
                                    "FirstName": "Michael",
                                    "LastName": "Clark",
                                    "Email": "m.clark@highschool.com",
                                    "DoB": "1981-02-26",
                                    "Role": "Teacher"
                                },
                                {
                                    "StaffId": "11",
                                    "FirstName": "Barbara",
                                    "LastName": "Hall",
                                    "Email": "b.hall@highschool.com",
                                    "DoB": "1987-09-13",
                                    "Role": "Teacher"
                                },
                                {
                                    "StaffId": "12",
                                    "FirstName": "William",
                                    "LastName": "Young",
                                    "Email": "w.young@highschool.com",
                                    "DoB": "1974-06-21",
                                    "Role": "Teacher"
                                },
                                {
                                    "StaffId": "13",
                                    "FirstName": "Elizabeth",
                                    "LastName": "Allen",
                                    "Email": "e.allen@highschool.com",
                                    "DoB": "1990-03-15",
                                    "Role": "Teacher"
                                },
                                {
                                    "StaffId": "14",
                                    "FirstName": "Thomas",
                                    "LastName": "King",
                                    "Email": "t.king@highschool.com",
                                    "DoB": "1984-05-08",
                                    "Role": "Teacher"
                                },
                                {
                                    "StaffId": "15",
                                    "FirstName": "Susan",
                                    "LastName": "Scott",
                                    "Email": "s.scott@highschool.com",
                                    "DoB": "1977-11-25",
                                    "Role": "Teacher"
                                }
                            ]
                        },
                        "text/html": "<table><tr><th>StaffId</th><th>FirstName</th><th>LastName</th><th>Email</th><th>DoB</th><th>Role</th></tr><tr><td>1</td><td>John</td><td>Doe</td><td>j.doe@highschool.com</td><td>1970-05-15</td><td>Principal</td></tr><tr><td>2</td><td>Mary</td><td>Smith</td><td>m.smith@highschool.com</td><td>1978-10-22</td><td>Janitor</td></tr><tr><td>3</td><td>Emily</td><td>Johnson</td><td>e.johnson@highschool.com</td><td>1985-03-09</td><td>School Nurse</td></tr><tr><td>4</td><td>Paul</td><td>Brown</td><td>p.brown@highschool.com</td><td>1982-07-14</td><td>Counselor</td></tr><tr><td>5</td><td>Sophia</td><td>Miller</td><td>s.miller@highschool.com</td><td>1976-11-04</td><td>Kitchen Chef</td></tr><tr><td>6</td><td>James</td><td>Anderson</td><td>j.anderson@highschool.com</td><td>1980-01-17</td><td>Teacher</td></tr><tr><td>7</td><td>Linda</td><td>Taylor</td><td>l.taylor@highschool.com</td><td>1986-04-05</td><td>Teacher</td></tr><tr><td>8</td><td>Robert</td><td>Moore</td><td>r.moore@highschool.com</td><td>1983-08-19</td><td>Teacher</td></tr><tr><td>9</td><td>Patricia</td><td>Wilson</td><td>p.wilson@highschool.com</td><td>1979-12-10</td><td>Teacher</td></tr><tr><td>10</td><td>Michael</td><td>Clark</td><td>m.clark@highschool.com</td><td>1981-02-26</td><td>Teacher</td></tr><tr><td>11</td><td>Barbara</td><td>Hall</td><td>b.hall@highschool.com</td><td>1987-09-13</td><td>Teacher</td></tr><tr><td>12</td><td>William</td><td>Young</td><td>w.young@highschool.com</td><td>1974-06-21</td><td>Teacher</td></tr><tr><td>13</td><td>Elizabeth</td><td>Allen</td><td>e.allen@highschool.com</td><td>1990-03-15</td><td>Teacher</td></tr><tr><td>14</td><td>Thomas</td><td>King</td><td>t.king@highschool.com</td><td>1984-05-08</td><td>Teacher</td></tr><tr><td>15</td><td>Susan</td><td>Scott</td><td>s.scott@highschool.com</td><td>1977-11-25</td><td>Teacher</td></tr></table>"
                    },
                    "metadata": {}
                }
            ],
            "execution_count": 1
        },
        {
            "cell_type": "code",
            "source": [
                "USE LabbSchool\r\n",
                "\r\n",
                "SELECT * FROM Staff\r\n",
                "WHERE [Role] = 'Teacher';"
            ],
            "metadata": {
                "azdata_cell_guid": "ca32f8b9-564b-4c4b-88c9-1b0c54fdea50",
                "language": "sql"
            },
            "outputs": [
                {
                    "output_type": "display_data",
                    "data": {
                        "text/html": "(10 rows affected)"
                    },
                    "metadata": {}
                },
                {
                    "output_type": "display_data",
                    "data": {
                        "text/html": "Total execution time: 00:00:00.014"
                    },
                    "metadata": {}
                },
                {
                    "output_type": "execute_result",
                    "execution_count": 2,
                    "data": {
                        "application/vnd.dataresource+json": {
                            "schema": {
                                "fields": [
                                    {
                                        "name": "StaffId"
                                    },
                                    {
                                        "name": "FirstName"
                                    },
                                    {
                                        "name": "LastName"
                                    },
                                    {
                                        "name": "Email"
                                    },
                                    {
                                        "name": "DoB"
                                    },
                                    {
                                        "name": "Role"
                                    }
                                ]
                            },
                            "data": [
                                {
                                    "StaffId": "6",
                                    "FirstName": "James",
                                    "LastName": "Anderson",
                                    "Email": "j.anderson@highschool.com",
                                    "DoB": "1980-01-17",
                                    "Role": "Teacher"
                                },
                                {
                                    "StaffId": "7",
                                    "FirstName": "Linda",
                                    "LastName": "Taylor",
                                    "Email": "l.taylor@highschool.com",
                                    "DoB": "1986-04-05",
                                    "Role": "Teacher"
                                },
                                {
                                    "StaffId": "8",
                                    "FirstName": "Robert",
                                    "LastName": "Moore",
                                    "Email": "r.moore@highschool.com",
                                    "DoB": "1983-08-19",
                                    "Role": "Teacher"
                                },
                                {
                                    "StaffId": "9",
                                    "FirstName": "Patricia",
                                    "LastName": "Wilson",
                                    "Email": "p.wilson@highschool.com",
                                    "DoB": "1979-12-10",
                                    "Role": "Teacher"
                                },
                                {
                                    "StaffId": "10",
                                    "FirstName": "Michael",
                                    "LastName": "Clark",
                                    "Email": "m.clark@highschool.com",
                                    "DoB": "1981-02-26",
                                    "Role": "Teacher"
                                },
                                {
                                    "StaffId": "11",
                                    "FirstName": "Barbara",
                                    "LastName": "Hall",
                                    "Email": "b.hall@highschool.com",
                                    "DoB": "1987-09-13",
                                    "Role": "Teacher"
                                },
                                {
                                    "StaffId": "12",
                                    "FirstName": "William",
                                    "LastName": "Young",
                                    "Email": "w.young@highschool.com",
                                    "DoB": "1974-06-21",
                                    "Role": "Teacher"
                                },
                                {
                                    "StaffId": "13",
                                    "FirstName": "Elizabeth",
                                    "LastName": "Allen",
                                    "Email": "e.allen@highschool.com",
                                    "DoB": "1990-03-15",
                                    "Role": "Teacher"
                                },
                                {
                                    "StaffId": "14",
                                    "FirstName": "Thomas",
                                    "LastName": "King",
                                    "Email": "t.king@highschool.com",
                                    "DoB": "1984-05-08",
                                    "Role": "Teacher"
                                },
                                {
                                    "StaffId": "15",
                                    "FirstName": "Susan",
                                    "LastName": "Scott",
                                    "Email": "s.scott@highschool.com",
                                    "DoB": "1977-11-25",
                                    "Role": "Teacher"
                                }
                            ]
                        },
                        "text/html": "<table><tr><th>StaffId</th><th>FirstName</th><th>LastName</th><th>Email</th><th>DoB</th><th>Role</th></tr><tr><td>6</td><td>James</td><td>Anderson</td><td>j.anderson@highschool.com</td><td>1980-01-17</td><td>Teacher</td></tr><tr><td>7</td><td>Linda</td><td>Taylor</td><td>l.taylor@highschool.com</td><td>1986-04-05</td><td>Teacher</td></tr><tr><td>8</td><td>Robert</td><td>Moore</td><td>r.moore@highschool.com</td><td>1983-08-19</td><td>Teacher</td></tr><tr><td>9</td><td>Patricia</td><td>Wilson</td><td>p.wilson@highschool.com</td><td>1979-12-10</td><td>Teacher</td></tr><tr><td>10</td><td>Michael</td><td>Clark</td><td>m.clark@highschool.com</td><td>1981-02-26</td><td>Teacher</td></tr><tr><td>11</td><td>Barbara</td><td>Hall</td><td>b.hall@highschool.com</td><td>1987-09-13</td><td>Teacher</td></tr><tr><td>12</td><td>William</td><td>Young</td><td>w.young@highschool.com</td><td>1974-06-21</td><td>Teacher</td></tr><tr><td>13</td><td>Elizabeth</td><td>Allen</td><td>e.allen@highschool.com</td><td>1990-03-15</td><td>Teacher</td></tr><tr><td>14</td><td>Thomas</td><td>King</td><td>t.king@highschool.com</td><td>1984-05-08</td><td>Teacher</td></tr><tr><td>15</td><td>Susan</td><td>Scott</td><td>s.scott@highschool.com</td><td>1977-11-25</td><td>Teacher</td></tr></table>"
                    },
                    "metadata": {}
                }
            ],
            "execution_count": 2
        },
        {
            "cell_type": "markdown",
            "source": [
                "- \\[ \\] Hämta alla betyg som satts den senaste månaden\n",
                "    \n",
                "    Här får databasadministratören se en lista med alla betyg som satts senaste månaden där elevens namn, ämnet och betyget framgår.\n",
                "    \n",
                "- Denna visar dock 2 månader bakåt då betyg tydligen sätts i december har jag hört :D"
            ],
            "metadata": {
                "azdata_cell_guid": "5b32cb22-a60f-433e-84c9-6ffe4598e3bd"
            },
            "attachments": {}
        },
        {
            "cell_type": "code",
            "source": [
                "USE LabbSchool\r\n",
                "\r\n",
                "SELECT \r\n",
                "    s.FirstName + ' ' + s.LastName AS StudentName,\r\n",
                "    sub.SubjectName AS Course,\r\n",
                "    g.Grade\r\n",
                "FROM Grade g\r\n",
                "INNER JOIN Students s ON s.StudentId = g.Student_Id\r\n",
                "INNER JOIN [Subject] sub ON g.Subject_Id = sub.SubjectId\r\n",
                "WHERE g.DateAwarded >= DATEADD(MONTH, -2, GETDATE());"
            ],
            "metadata": {
                "azdata_cell_guid": "53aea5fc-e4b8-4394-99b1-8aee49a11b31",
                "language": "sql"
            },
            "outputs": [
                {
                    "output_type": "display_data",
                    "data": {
                        "text/html": "(540 rows affected)"
                    },
                    "metadata": {}
                },
                {
                    "output_type": "display_data",
                    "data": {
                        "text/html": "Total execution time: 00:00:00.018"
                    },
                    "metadata": {}
                },
                {
                    "output_type": "execute_result",
                    "execution_count": 5,
                    "data": {
                        "application/vnd.dataresource+json": {
                            "schema": {
                                "fields": [
                                    {
                                        "name": "StudentName"
                                    },
                                    {
                                        "name": "Course"
                                    },
                                    {
                                        "name": "Grade"
                                    }
                                ]
                            },
                            "data": [
                                {
                                    "StudentName": "Oliver Smith",
                                    "Course": "Math",
                                    "Grade": "A "
                                },
                                {
                                    "StudentName": "Oliver Smith",
                                    "Course": "English",
                                    "Grade": "B "
                                },
                                {
                                    "StudentName": "Oliver Smith",
                                    "Course": "Science",
                                    "Grade": "C "
                                },
                                {
                                    "StudentName": "Oliver Smith",
                                    "Course": "History",
                                    "Grade": "A "
                                },
                                {
                                    "StudentName": "Oliver Smith",
                                    "Course": "Art",
                                    "Grade": "B "
                                },
                                {
                                    "StudentName": "Oliver Smith",
                                    "Course": "Physical Education",
                                    "Grade": "C "
                                },
                                {
                                    "StudentName": "Sophia Johnson",
                                    "Course": "Math",
                                    "Grade": "B "
                                },
                                {
                                    "StudentName": "Sophia Johnson",
                                    "Course": "English",
                                    "Grade": "A "
                                },
                                {
                                    "StudentName": "Sophia Johnson",
                                    "Course": "Science",
                                    "Grade": "D "
                                },
                                {
                                    "StudentName": "Sophia Johnson",
                                    "Course": "History",
                                    "Grade": "C "
                                },
                                {
                                    "StudentName": "Sophia Johnson",
                                    "Course": "Art",
                                    "Grade": "A "
                                },
                                {
                                    "StudentName": "Sophia Johnson",
                                    "Course": "Physical Education",
                                    "Grade": "B "
                                },
                                {
                                    "StudentName": "Liam Williams",
                                    "Course": "Math",
                                    "Grade": "C "
                                },
                                {
                                    "StudentName": "Liam Williams",
                                    "Course": "English",
                                    "Grade": "D "
                                },
                                {
                                    "StudentName": "Liam Williams",
                                    "Course": "Science",
                                    "Grade": "A "
                                },
                                {
                                    "StudentName": "Liam Williams",
                                    "Course": "History",
                                    "Grade": "B "
                                },
                                {
                                    "StudentName": "Liam Williams",
                                    "Course": "Art",
                                    "Grade": "C "
                                },
                                {
                                    "StudentName": "Liam Williams",
                                    "Course": "Physical Education",
                                    "Grade": "A "
                                },
                                {
                                    "StudentName": "Emma Brown",
                                    "Course": "Math",
                                    "Grade": "D "
                                },
                                {
                                    "StudentName": "Emma Brown",
                                    "Course": "English",
                                    "Grade": "B "
                                },
                                {
                                    "StudentName": "Emma Brown",
                                    "Course": "Science",
                                    "Grade": "C "
                                },
                                {
                                    "StudentName": "Emma Brown",
                                    "Course": "History",
                                    "Grade": "D "
                                },
                                {
                                    "StudentName": "Emma Brown",
                                    "Course": "Art",
                                    "Grade": "A "
                                },
                                {
                                    "StudentName": "Emma Brown",
                                    "Course": "Physical Education",
                                    "Grade": "B "
                                },
                                {
                                    "StudentName": "Noah Jones",
                                    "Course": "Math",
                                    "Grade": "B "
                                },
                                {
                                    "StudentName": "Noah Jones",
                                    "Course": "English",
                                    "Grade": "A "
                                },
                                {
                                    "StudentName": "Noah Jones",
                                    "Course": "Science",
                                    "Grade": "C "
                                },
                                {
                                    "StudentName": "Noah Jones",
                                    "Course": "History",
                                    "Grade": "D "
                                },
                                {
                                    "StudentName": "Noah Jones",
                                    "Course": "Art",
                                    "Grade": "E "
                                },
                                {
                                    "StudentName": "Noah Jones",
                                    "Course": "Physical Education",
                                    "Grade": "A "
                                },
                                {
                                    "StudentName": "Ava Garcia",
                                    "Course": "Math",
                                    "Grade": "A "
                                },
                                {
                                    "StudentName": "Ava Garcia",
                                    "Course": "English",
                                    "Grade": "C "
                                },
                                {
                                    "StudentName": "Ava Garcia",
                                    "Course": "Science",
                                    "Grade": "B "
                                },
                                {
                                    "StudentName": "Ava Garcia",
                                    "Course": "History",
                                    "Grade": "C "
                                },
                                {
                                    "StudentName": "Ava Garcia",
                                    "Course": "Art",
                                    "Grade": "D "
                                },
                                {
                                    "StudentName": "Ava Garcia",
                                    "Course": "Physical Education",
                                    "Grade": "A "
                                },
                                {
                                    "StudentName": "Elijah Miller",
                                    "Course": "Math",
                                    "Grade": "C "
                                },
                                {
                                    "StudentName": "Elijah Miller",
                                    "Course": "English",
                                    "Grade": "A "
                                },
                                {
                                    "StudentName": "Elijah Miller",
                                    "Course": "Science",
                                    "Grade": "B "
                                },
                                {
                                    "StudentName": "Elijah Miller",
                                    "Course": "History",
                                    "Grade": "A "
                                },
                                {
                                    "StudentName": "Elijah Miller",
                                    "Course": "Art",
                                    "Grade": "C "
                                },
                                {
                                    "StudentName": "Elijah Miller",
                                    "Course": "Physical Education",
                                    "Grade": "B "
                                },
                                {
                                    "StudentName": "Isabella Martinez",
                                    "Course": "Math",
                                    "Grade": "B "
                                },
                                {
                                    "StudentName": "Isabella Martinez",
                                    "Course": "English",
                                    "Grade": "C "
                                },
                                {
                                    "StudentName": "Isabella Martinez",
                                    "Course": "Science",
                                    "Grade": "A "
                                },
                                {
                                    "StudentName": "Isabella Martinez",
                                    "Course": "History",
                                    "Grade": "B "
                                },
                                {
                                    "StudentName": "Isabella Martinez",
                                    "Course": "Art",
                                    "Grade": "A "
                                },
                                {
                                    "StudentName": "Isabella Martinez",
                                    "Course": "Physical Education",
                                    "Grade": "D "
                                },
                                {
                                    "StudentName": "Lucas Davis",
                                    "Course": "Math",
                                    "Grade": "D "
                                },
                                {
                                    "StudentName": "Lucas Davis",
                                    "Course": "English",
                                    "Grade": "B "
                                },
                                {
                                    "StudentName": "Lucas Davis",
                                    "Course": "Science",
                                    "Grade": "A "
                                },
                                {
                                    "StudentName": "Lucas Davis",
                                    "Course": "History",
                                    "Grade": "C "
                                },
                                {
                                    "StudentName": "Lucas Davis",
                                    "Course": "Art",
                                    "Grade": "B "
                                },
                                {
                                    "StudentName": "Lucas Davis",
                                    "Course": "Physical Education",
                                    "Grade": "A "
                                },
                                {
                                    "StudentName": "Mia Rodriguez",
                                    "Course": "Math",
                                    "Grade": "A "
                                },
                                {
                                    "StudentName": "Mia Rodriguez",
                                    "Course": "English",
                                    "Grade": "C "
                                },
                                {
                                    "StudentName": "Mia Rodriguez",
                                    "Course": "Science",
                                    "Grade": "B "
                                },
                                {
                                    "StudentName": "Mia Rodriguez",
                                    "Course": "History",
                                    "Grade": "E "
                                },
                                {
                                    "StudentName": "Mia Rodriguez",
                                    "Course": "Art",
                                    "Grade": "A "
                                },
                                {
                                    "StudentName": "Mia Rodriguez",
                                    "Course": "Physical Education",
                                    "Grade": "C "
                                },
                                {
                                    "StudentName": "James Lopez",
                                    "Course": "Math",
                                    "Grade": "A "
                                },
                                {
                                    "StudentName": "James Lopez",
                                    "Course": "English",
                                    "Grade": "B "
                                },
                                {
                                    "StudentName": "James Lopez",
                                    "Course": "Science",
                                    "Grade": "D "
                                },
                                {
                                    "StudentName": "James Lopez",
                                    "Course": "History",
                                    "Grade": "B "
                                },
                                {
                                    "StudentName": "James Lopez",
                                    "Course": "Art",
                                    "Grade": "C "
                                },
                                {
                                    "StudentName": "James Lopez",
                                    "Course": "Physical Education",
                                    "Grade": "B "
                                },
                                {
                                    "StudentName": "Charlotte Wilson",
                                    "Course": "Math",
                                    "Grade": "D "
                                },
                                {
                                    "StudentName": "Charlotte Wilson",
                                    "Course": "English",
                                    "Grade": "C "
                                },
                                {
                                    "StudentName": "Charlotte Wilson",
                                    "Course": "Science",
                                    "Grade": "A "
                                },
                                {
                                    "StudentName": "Charlotte Wilson",
                                    "Course": "History",
                                    "Grade": "A "
                                },
                                {
                                    "StudentName": "Charlotte Wilson",
                                    "Course": "Art",
                                    "Grade": "B "
                                },
                                {
                                    "StudentName": "Charlotte Wilson",
                                    "Course": "Physical Education",
                                    "Grade": "C "
                                },
                                {
                                    "StudentName": "Benjamin Anderson",
                                    "Course": "Math",
                                    "Grade": "B "
                                },
                                {
                                    "StudentName": "Benjamin Anderson",
                                    "Course": "English",
                                    "Grade": "A "
                                },
                                {
                                    "StudentName": "Benjamin Anderson",
                                    "Course": "Science",
                                    "Grade": "C "
                                },
                                {
                                    "StudentName": "Benjamin Anderson",
                                    "Course": "History",
                                    "Grade": "D "
                                },
                                {
                                    "StudentName": "Benjamin Anderson",
                                    "Course": "Art",
                                    "Grade": "A "
                                },
                                {
                                    "StudentName": "Benjamin Anderson",
                                    "Course": "Physical Education",
                                    "Grade": "C "
                                },
                                {
                                    "StudentName": "Amelia Thomas",
                                    "Course": "Math",
                                    "Grade": "C "
                                },
                                {
                                    "StudentName": "Amelia Thomas",
                                    "Course": "English",
                                    "Grade": "B "
                                },
                                {
                                    "StudentName": "Amelia Thomas",
                                    "Course": "Science",
                                    "Grade": "A "
                                },
                                {
                                    "StudentName": "Amelia Thomas",
                                    "Course": "History",
                                    "Grade": "C "
                                },
                                {
                                    "StudentName": "Amelia Thomas",
                                    "Course": "Art",
                                    "Grade": "D "
                                },
                                {
                                    "StudentName": "Amelia Thomas",
                                    "Course": "Physical Education",
                                    "Grade": "B "
                                },
                                {
                                    "StudentName": "Henry Taylor",
                                    "Course": "Math",
                                    "Grade": "A "
                                },
                                {
                                    "StudentName": "Henry Taylor",
                                    "Course": "English",
                                    "Grade": "C "
                                },
                                {
                                    "StudentName": "Henry Taylor",
                                    "Course": "Science",
                                    "Grade": "D "
                                },
                                {
                                    "StudentName": "Henry Taylor",
                                    "Course": "History",
                                    "Grade": "A "
                                },
                                {
                                    "StudentName": "Henry Taylor",
                                    "Course": "Art",
                                    "Grade": "B "
                                },
                                {
                                    "StudentName": "Henry Taylor",
                                    "Course": "Physical Education",
                                    "Grade": "D "
                                },
                                {
                                    "StudentName": "Evelyn Hernandez",
                                    "Course": "Math",
                                    "Grade": "B "
                                },
                                {
                                    "StudentName": "Evelyn Hernandez",
                                    "Course": "English",
                                    "Grade": "A "
                                },
                                {
                                    "StudentName": "Evelyn Hernandez",
                                    "Course": "Science",
                                    "Grade": "C "
                                },
                                {
                                    "StudentName": "Evelyn Hernandez",
                                    "Course": "History",
                                    "Grade": "D "
                                },
                                {
                                    "StudentName": "Evelyn Hernandez",
                                    "Course": "Art",
                                    "Grade": "A "
                                },
                                {
                                    "StudentName": "Evelyn Hernandez",
                                    "Course": "Physical Education",
                                    "Grade": "B "
                                },
                                {
                                    "StudentName": "Alexander Moore",
                                    "Course": "Math",
                                    "Grade": "C "
                                },
                                {
                                    "StudentName": "Alexander Moore",
                                    "Course": "English",
                                    "Grade": "B "
                                },
                                {
                                    "StudentName": "Alexander Moore",
                                    "Course": "Science",
                                    "Grade": "A "
                                },
                                {
                                    "StudentName": "Alexander Moore",
                                    "Course": "History",
                                    "Grade": "B "
                                },
                                {
                                    "StudentName": "Alexander Moore",
                                    "Course": "Art",
                                    "Grade": "C "
                                },
                                {
                                    "StudentName": "Alexander Moore",
                                    "Course": "Physical Education",
                                    "Grade": "D "
                                },
                                {
                                    "StudentName": "Harper Martin",
                                    "Course": "Math",
                                    "Grade": "D "
                                },
                                {
                                    "StudentName": "Harper Martin",
                                    "Course": "English",
                                    "Grade": "A "
                                },
                                {
                                    "StudentName": "Harper Martin",
                                    "Course": "Science",
                                    "Grade": "B "
                                },
                                {
                                    "StudentName": "Harper Martin",
                                    "Course": "History",
                                    "Grade": "C "
                                },
                                {
                                    "StudentName": "Harper Martin",
                                    "Course": "Art",
                                    "Grade": "A "
                                },
                                {
                                    "StudentName": "Harper Martin",
                                    "Course": "Physical Education",
                                    "Grade": "C "
                                },
                                {
                                    "StudentName": "Michael Jackson",
                                    "Course": "Math",
                                    "Grade": "A "
                                },
                                {
                                    "StudentName": "Michael Jackson",
                                    "Course": "English",
                                    "Grade": "C "
                                },
                                {
                                    "StudentName": "Michael Jackson",
                                    "Course": "Science",
                                    "Grade": "D "
                                },
                                {
                                    "StudentName": "Michael Jackson",
                                    "Course": "History",
                                    "Grade": "B "
                                },
                                {
                                    "StudentName": "Michael Jackson",
                                    "Course": "Art",
                                    "Grade": "C "
                                },
                                {
                                    "StudentName": "Michael Jackson",
                                    "Course": "Physical Education",
                                    "Grade": "A "
                                },
                                {
                                    "StudentName": "Abigail Lee",
                                    "Course": "Math",
                                    "Grade": "B "
                                },
                                {
                                    "StudentName": "Abigail Lee",
                                    "Course": "English",
                                    "Grade": "D "
                                },
                                {
                                    "StudentName": "Abigail Lee",
                                    "Course": "Science",
                                    "Grade": "A "
                                },
                                {
                                    "StudentName": "Abigail Lee",
                                    "Course": "History",
                                    "Grade": "C "
                                },
                                {
                                    "StudentName": "Abigail Lee",
                                    "Course": "Art",
                                    "Grade": "B "
                                },
                                {
                                    "StudentName": "Abigail Lee",
                                    "Course": "Physical Education",
                                    "Grade": "D "
                                },
                                {
                                    "StudentName": "Daniel Perez",
                                    "Course": "Math",
                                    "Grade": "B "
                                },
                                {
                                    "StudentName": "Daniel Perez",
                                    "Course": "English",
                                    "Grade": "A "
                                },
                                {
                                    "StudentName": "Daniel Perez",
                                    "Course": "Science",
                                    "Grade": "C "
                                },
                                {
                                    "StudentName": "Daniel Perez",
                                    "Course": "History",
                                    "Grade": "D "
                                },
                                {
                                    "StudentName": "Daniel Perez",
                                    "Course": "Art",
                                    "Grade": "B "
                                },
                                {
                                    "StudentName": "Daniel Perez",
                                    "Course": "Physical Education",
                                    "Grade": "C "
                                },
                                {
                                    "StudentName": "Ella White",
                                    "Course": "Math",
                                    "Grade": "C "
                                },
                                {
                                    "StudentName": "Ella White",
                                    "Course": "English",
                                    "Grade": "B "
                                },
                                {
                                    "StudentName": "Ella White",
                                    "Course": "Science",
                                    "Grade": "A "
                                },
                                {
                                    "StudentName": "Ella White",
                                    "Course": "History",
                                    "Grade": "A "
                                },
                                {
                                    "StudentName": "Ella White",
                                    "Course": "Art",
                                    "Grade": "C "
                                },
                                {
                                    "StudentName": "Ella White",
                                    "Course": "Physical Education",
                                    "Grade": "B "
                                },
                                {
                                    "StudentName": "Matthew Harris",
                                    "Course": "Math",
                                    "Grade": "D "
                                },
                                {
                                    "StudentName": "Matthew Harris",
                                    "Course": "English",
                                    "Grade": "A "
                                },
                                {
                                    "StudentName": "Matthew Harris",
                                    "Course": "Science",
                                    "Grade": "B "
                                },
                                {
                                    "StudentName": "Matthew Harris",
                                    "Course": "History",
                                    "Grade": "C "
                                },
                                {
                                    "StudentName": "Matthew Harris",
                                    "Course": "Art",
                                    "Grade": "D "
                                },
                                {
                                    "StudentName": "Matthew Harris",
                                    "Course": "Physical Education",
                                    "Grade": "A "
                                },
                                {
                                    "StudentName": "Lily Clark",
                                    "Course": "Math",
                                    "Grade": "A "
                                },
                                {
                                    "StudentName": "Lily Clark",
                                    "Course": "English",
                                    "Grade": "C "
                                },
                                {
                                    "StudentName": "Lily Clark",
                                    "Course": "Science",
                                    "Grade": "D "
                                },
                                {
                                    "StudentName": "Lily Clark",
                                    "Course": "History",
                                    "Grade": "B "
                                },
                                {
                                    "StudentName": "Lily Clark",
                                    "Course": "Art",
                                    "Grade": "A "
                                },
                                {
                                    "StudentName": "Lily Clark",
                                    "Course": "Physical Education",
                                    "Grade": "C "
                                },
                                {
                                    "StudentName": "Joseph Lewis",
                                    "Course": "Math",
                                    "Grade": "C "
                                },
                                {
                                    "StudentName": "Joseph Lewis",
                                    "Course": "English",
                                    "Grade": "D "
                                },
                                {
                                    "StudentName": "Joseph Lewis",
                                    "Course": "Science",
                                    "Grade": "A "
                                },
                                {
                                    "StudentName": "Joseph Lewis",
                                    "Course": "History",
                                    "Grade": "C "
                                },
                                {
                                    "StudentName": "Joseph Lewis",
                                    "Course": "Art",
                                    "Grade": "B "
                                },
                                {
                                    "StudentName": "Joseph Lewis",
                                    "Course": "Physical Education",
                                    "Grade": "D "
                                },
                                {
                                    "StudentName": "Grace Robinson",
                                    "Course": "Math",
                                    "Grade": "B "
                                },
                                {
                                    "StudentName": "Grace Robinson",
                                    "Course": "English",
                                    "Grade": "C "
                                },
                                {
                                    "StudentName": "Grace Robinson",
                                    "Course": "Science",
                                    "Grade": "D "
                                },
                                {
                                    "StudentName": "Grace Robinson",
                                    "Course": "History",
                                    "Grade": "A "
                                },
                                {
                                    "StudentName": "Grace Robinson",
                                    "Course": "Art",
                                    "Grade": "C "
                                },
                                {
                                    "StudentName": "Grace Robinson",
                                    "Course": "Physical Education",
                                    "Grade": "A "
                                },
                                {
                                    "StudentName": "David Walker",
                                    "Course": "Math",
                                    "Grade": "A "
                                },
                                {
                                    "StudentName": "David Walker",
                                    "Course": "English",
                                    "Grade": "B "
                                },
                                {
                                    "StudentName": "David Walker",
                                    "Course": "Science",
                                    "Grade": "C "
                                },
                                {
                                    "StudentName": "David Walker",
                                    "Course": "History",
                                    "Grade": "D "
                                },
                                {
                                    "StudentName": "David Walker",
                                    "Course": "Art",
                                    "Grade": "A "
                                },
                                {
                                    "StudentName": "David Walker",
                                    "Course": "Physical Education",
                                    "Grade": "B "
                                },
                                {
                                    "StudentName": "Chloe Hall",
                                    "Course": "Math",
                                    "Grade": "C "
                                },
                                {
                                    "StudentName": "Chloe Hall",
                                    "Course": "English",
                                    "Grade": "D "
                                },
                                {
                                    "StudentName": "Chloe Hall",
                                    "Course": "Science",
                                    "Grade": "B "
                                },
                                {
                                    "StudentName": "Chloe Hall",
                                    "Course": "History",
                                    "Grade": "A "
                                },
                                {
                                    "StudentName": "Chloe Hall",
                                    "Course": "Art",
                                    "Grade": "D "
                                },
                                {
                                    "StudentName": "Chloe Hall",
                                    "Course": "Physical Education",
                                    "Grade": "C "
                                },
                                {
                                    "StudentName": "Samuel Allen",
                                    "Course": "Math",
                                    "Grade": "B "
                                },
                                {
                                    "StudentName": "Samuel Allen",
                                    "Course": "English",
                                    "Grade": "C "
                                },
                                {
                                    "StudentName": "Samuel Allen",
                                    "Course": "Science",
                                    "Grade": "A "
                                },
                                {
                                    "StudentName": "Samuel Allen",
                                    "Course": "History",
                                    "Grade": "B "
                                },
                                {
                                    "StudentName": "Samuel Allen",
                                    "Course": "Art",
                                    "Grade": "C "
                                },
                                {
                                    "StudentName": "Samuel Allen",
                                    "Course": "Physical Education",
                                    "Grade": "D "
                                },
                                {
                                    "StudentName": "Scarlett Young",
                                    "Course": "Math",
                                    "Grade": "D "
                                },
                                {
                                    "StudentName": "Scarlett Young",
                                    "Course": "English",
                                    "Grade": "A "
                                },
                                {
                                    "StudentName": "Scarlett Young",
                                    "Course": "Science",
                                    "Grade": "B "
                                },
                                {
                                    "StudentName": "Scarlett Young",
                                    "Course": "History",
                                    "Grade": "C "
                                },
                                {
                                    "StudentName": "Scarlett Young",
                                    "Course": "Art",
                                    "Grade": "A "
                                },
                                {
                                    "StudentName": "Scarlett Young",
                                    "Course": "Physical Education",
                                    "Grade": "B "
                                },
                                {
                                    "StudentName": "Andrew King",
                                    "Course": "Math",
                                    "Grade": "A "
                                },
                                {
                                    "StudentName": "Andrew King",
                                    "Course": "English",
                                    "Grade": "C "
                                },
                                {
                                    "StudentName": "Andrew King",
                                    "Course": "Science",
                                    "Grade": "B "
                                },
                                {
                                    "StudentName": "Andrew King",
                                    "Course": "History",
                                    "Grade": "D "
                                },
                                {
                                    "StudentName": "Andrew King",
                                    "Course": "Art",
                                    "Grade": "A "
                                },
                                {
                                    "StudentName": "Andrew King",
                                    "Course": "Physical Education",
                                    "Grade": "C "
                                },
                                {
                                    "StudentName": "Lillian Scott",
                                    "Course": "Math",
                                    "Grade": "B "
                                },
                                {
                                    "StudentName": "Lillian Scott",
                                    "Course": "English",
                                    "Grade": "A "
                                },
                                {
                                    "StudentName": "Lillian Scott",
                                    "Course": "Science",
                                    "Grade": "C "
                                },
                                {
                                    "StudentName": "Lillian Scott",
                                    "Course": "History",
                                    "Grade": "B "
                                },
                                {
                                    "StudentName": "Lillian Scott",
                                    "Course": "Art",
                                    "Grade": "D "
                                },
                                {
                                    "StudentName": "Lillian Scott",
                                    "Course": "Physical Education",
                                    "Grade": "A "
                                },
                                {
                                    "StudentName": "Anthony Green",
                                    "Course": "Math",
                                    "Grade": "C "
                                },
                                {
                                    "StudentName": "Anthony Green",
                                    "Course": "English",
                                    "Grade": "B "
                                },
                                {
                                    "StudentName": "Anthony Green",
                                    "Course": "Science",
                                    "Grade": "A "
                                },
                                {
                                    "StudentName": "Anthony Green",
                                    "Course": "History",
                                    "Grade": "C "
                                },
                                {
                                    "StudentName": "Anthony Green",
                                    "Course": "Art",
                                    "Grade": "B "
                                },
                                {
                                    "StudentName": "Anthony Green",
                                    "Course": "Physical Education",
                                    "Grade": "D "
                                },
                                {
                                    "StudentName": "Aria Adams",
                                    "Course": "Math",
                                    "Grade": "D "
                                },
                                {
                                    "StudentName": "Aria Adams",
                                    "Course": "English",
                                    "Grade": "C "
                                },
                                {
                                    "StudentName": "Aria Adams",
                                    "Course": "Science",
                                    "Grade": "B "
                                },
                                {
                                    "StudentName": "Aria Adams",
                                    "Course": "History",
                                    "Grade": "A "
                                },
                                {
                                    "StudentName": "Aria Adams",
                                    "Course": "Art",
                                    "Grade": "C "
                                },
                                {
                                    "StudentName": "Aria Adams",
                                    "Course": "Physical Education",
                                    "Grade": "A "
                                },
                                {
                                    "StudentName": "Christopher Baker",
                                    "Course": "Math",
                                    "Grade": "A "
                                },
                                {
                                    "StudentName": "Christopher Baker",
                                    "Course": "English",
                                    "Grade": "D "
                                },
                                {
                                    "StudentName": "Christopher Baker",
                                    "Course": "Science",
                                    "Grade": "C "
                                },
                                {
                                    "StudentName": "Christopher Baker",
                                    "Course": "History",
                                    "Grade": "B "
                                },
                                {
                                    "StudentName": "Christopher Baker",
                                    "Course": "Art",
                                    "Grade": "A "
                                },
                                {
                                    "StudentName": "Christopher Baker",
                                    "Course": "Physical Education",
                                    "Grade": "C "
                                },
                                {
                                    "StudentName": "Sofia Gonzalez",
                                    "Course": "Math",
                                    "Grade": "C "
                                },
                                {
                                    "StudentName": "Sofia Gonzalez",
                                    "Course": "English",
                                    "Grade": "A "
                                },
                                {
                                    "StudentName": "Sofia Gonzalez",
                                    "Course": "Science",
                                    "Grade": "B "
                                },
                                {
                                    "StudentName": "Sofia Gonzalez",
                                    "Course": "History",
                                    "Grade": "D "
                                },
                                {
                                    "StudentName": "Sofia Gonzalez",
                                    "Course": "Art",
                                    "Grade": "C "
                                },
                                {
                                    "StudentName": "Sofia Gonzalez",
                                    "Course": "Physical Education",
                                    "Grade": "A "
                                },
                                {
                                    "StudentName": "Joshua Nelson",
                                    "Course": "Math",
                                    "Grade": "B "
                                },
                                {
                                    "StudentName": "Joshua Nelson",
                                    "Course": "English",
                                    "Grade": "C "
                                },
                                {
                                    "StudentName": "Joshua Nelson",
                                    "Course": "Science",
                                    "Grade": "A "
                                },
                                {
                                    "StudentName": "Joshua Nelson",
                                    "Course": "History",
                                    "Grade": "C "
                                },
                                {
                                    "StudentName": "Joshua Nelson",
                                    "Course": "Art",
                                    "Grade": "B "
                                },
                                {
                                    "StudentName": "Joshua Nelson",
                                    "Course": "Physical Education",
                                    "Grade": "D "
                                },
                                {
                                    "StudentName": "Penelope Carter",
                                    "Course": "Math",
                                    "Grade": "D "
                                },
                                {
                                    "StudentName": "Penelope Carter",
                                    "Course": "English",
                                    "Grade": "A "
                                },
                                {
                                    "StudentName": "Penelope Carter",
                                    "Course": "Science",
                                    "Grade": "B "
                                },
                                {
                                    "StudentName": "Penelope Carter",
                                    "Course": "History",
                                    "Grade": "C "
                                },
                                {
                                    "StudentName": "Penelope Carter",
                                    "Course": "Art",
                                    "Grade": "D "
                                },
                                {
                                    "StudentName": "Penelope Carter",
                                    "Course": "Physical Education",
                                    "Grade": "A "
                                },
                                {
                                    "StudentName": "Ethan Mitchell",
                                    "Course": "Math",
                                    "Grade": "C "
                                },
                                {
                                    "StudentName": "Ethan Mitchell",
                                    "Course": "English",
                                    "Grade": "B "
                                },
                                {
                                    "StudentName": "Ethan Mitchell",
                                    "Course": "Science",
                                    "Grade": "A "
                                },
                                {
                                    "StudentName": "Ethan Mitchell",
                                    "Course": "History",
                                    "Grade": "D "
                                },
                                {
                                    "StudentName": "Ethan Mitchell",
                                    "Course": "Art",
                                    "Grade": "C "
                                },
                                {
                                    "StudentName": "Ethan Mitchell",
                                    "Course": "Physical Education",
                                    "Grade": "A "
                                },
                                {
                                    "StudentName": "Hannah Perez",
                                    "Course": "Math",
                                    "Grade": "B "
                                },
                                {
                                    "StudentName": "Hannah Perez",
                                    "Course": "English",
                                    "Grade": "D "
                                },
                                {
                                    "StudentName": "Hannah Perez",
                                    "Course": "Science",
                                    "Grade": "C "
                                },
                                {
                                    "StudentName": "Hannah Perez",
                                    "Course": "History",
                                    "Grade": "A "
                                },
                                {
                                    "StudentName": "Hannah Perez",
                                    "Course": "Art",
                                    "Grade": "B "
                                },
                                {
                                    "StudentName": "Hannah Perez",
                                    "Course": "Physical Education",
                                    "Grade": "D "
                                },
                                {
                                    "StudentName": "Nathan Collins",
                                    "Course": "Math",
                                    "Grade": "A "
                                },
                                {
                                    "StudentName": "Nathan Collins",
                                    "Course": "English",
                                    "Grade": "B "
                                },
                                {
                                    "StudentName": "Nathan Collins",
                                    "Course": "Science",
                                    "Grade": "C "
                                },
                                {
                                    "StudentName": "Nathan Collins",
                                    "Course": "History",
                                    "Grade": "D "
                                },
                                {
                                    "StudentName": "Nathan Collins",
                                    "Course": "Art",
                                    "Grade": "A "
                                },
                                {
                                    "StudentName": "Nathan Collins",
                                    "Course": "Physical Education",
                                    "Grade": "C "
                                },
                                {
                                    "StudentName": "Zoe Turner",
                                    "Course": "Math",
                                    "Grade": "C "
                                },
                                {
                                    "StudentName": "Zoe Turner",
                                    "Course": "English",
                                    "Grade": "D "
                                },
                                {
                                    "StudentName": "Zoe Turner",
                                    "Course": "Science",
                                    "Grade": "A "
                                },
                                {
                                    "StudentName": "Zoe Turner",
                                    "Course": "History",
                                    "Grade": "C "
                                },
                                {
                                    "StudentName": "Zoe Turner",
                                    "Course": "Art",
                                    "Grade": "B "
                                },
                                {
                                    "StudentName": "Zoe Turner",
                                    "Course": "Physical Education",
                                    "Grade": "A "
                                },
                                {
                                    "StudentName": "Ryan Edwards",
                                    "Course": "Math",
                                    "Grade": "B "
                                },
                                {
                                    "StudentName": "Ryan Edwards",
                                    "Course": "English",
                                    "Grade": "C "
                                },
                                {
                                    "StudentName": "Ryan Edwards",
                                    "Course": "Science",
                                    "Grade": "D "
                                },
                                {
                                    "StudentName": "Ryan Edwards",
                                    "Course": "History",
                                    "Grade": "A "
                                },
                                {
                                    "StudentName": "Ryan Edwards",
                                    "Course": "Art",
                                    "Grade": "B "
                                },
                                {
                                    "StudentName": "Ryan Edwards",
                                    "Course": "Physical Education",
                                    "Grade": "C "
                                },
                                {
                                    "StudentName": "Audrey Morris",
                                    "Course": "Math",
                                    "Grade": "A "
                                },
                                {
                                    "StudentName": "Audrey Morris",
                                    "Course": "English",
                                    "Grade": "B "
                                },
                                {
                                    "StudentName": "Audrey Morris",
                                    "Course": "Science",
                                    "Grade": "C "
                                },
                                {
                                    "StudentName": "Audrey Morris",
                                    "Course": "History",
                                    "Grade": "A "
                                },
                                {
                                    "StudentName": "Audrey Morris",
                                    "Course": "Art",
                                    "Grade": "D "
                                },
                                {
                                    "StudentName": "Audrey Morris",
                                    "Course": "Physical Education",
                                    "Grade": "B "
                                },
                                {
                                    "StudentName": "Caleb Hughes",
                                    "Course": "Math",
                                    "Grade": "C "
                                },
                                {
                                    "StudentName": "Caleb Hughes",
                                    "Course": "English",
                                    "Grade": "A "
                                },
                                {
                                    "StudentName": "Caleb Hughes",
                                    "Course": "Science",
                                    "Grade": "B "
                                },
                                {
                                    "StudentName": "Caleb Hughes",
                                    "Course": "History",
                                    "Grade": "D "
                                },
                                {
                                    "StudentName": "Caleb Hughes",
                                    "Course": "Art",
                                    "Grade": "C "
                                },
                                {
                                    "StudentName": "Caleb Hughes",
                                    "Course": "Physical Education",
                                    "Grade": "D "
                                },
                                {
                                    "StudentName": "Lucy Reed",
                                    "Course": "Math",
                                    "Grade": "B "
                                },
                                {
                                    "StudentName": "Lucy Reed",
                                    "Course": "English",
                                    "Grade": "D "
                                },
                                {
                                    "StudentName": "Lucy Reed",
                                    "Course": "Science",
                                    "Grade": "C "
                                },
                                {
                                    "StudentName": "Lucy Reed",
                                    "Course": "History",
                                    "Grade": "A "
                                },
                                {
                                    "StudentName": "Lucy Reed",
                                    "Course": "Art",
                                    "Grade": "B "
                                },
                                {
                                    "StudentName": "Lucy Reed",
                                    "Course": "Physical Education",
                                    "Grade": "A "
                                },
                                {
                                    "StudentName": "Nathaniel Cook",
                                    "Course": "Math",
                                    "Grade": "A "
                                },
                                {
                                    "StudentName": "Nathaniel Cook",
                                    "Course": "English",
                                    "Grade": "C "
                                },
                                {
                                    "StudentName": "Nathaniel Cook",
                                    "Course": "Science",
                                    "Grade": "D "
                                },
                                {
                                    "StudentName": "Nathaniel Cook",
                                    "Course": "History",
                                    "Grade": "B "
                                },
                                {
                                    "StudentName": "Nathaniel Cook",
                                    "Course": "Art",
                                    "Grade": "A "
                                },
                                {
                                    "StudentName": "Nathaniel Cook",
                                    "Course": "Physical Education",
                                    "Grade": "C "
                                },
                                {
                                    "StudentName": "Stella Bell",
                                    "Course": "Math",
                                    "Grade": "C "
                                },
                                {
                                    "StudentName": "Stella Bell",
                                    "Course": "English",
                                    "Grade": "A "
                                },
                                {
                                    "StudentName": "Stella Bell",
                                    "Course": "Science",
                                    "Grade": "B "
                                },
                                {
                                    "StudentName": "Stella Bell",
                                    "Course": "History",
                                    "Grade": "D "
                                },
                                {
                                    "StudentName": "Stella Bell",
                                    "Course": "Art",
                                    "Grade": "C "
                                },
                                {
                                    "StudentName": "Stella Bell",
                                    "Course": "Physical Education",
                                    "Grade": "D "
                                },
                                {
                                    "StudentName": "Logan Cooper",
                                    "Course": "Math",
                                    "Grade": "B "
                                },
                                {
                                    "StudentName": "Logan Cooper",
                                    "Course": "English",
                                    "Grade": "C "
                                },
                                {
                                    "StudentName": "Logan Cooper",
                                    "Course": "Science",
                                    "Grade": "D "
                                },
                                {
                                    "StudentName": "Logan Cooper",
                                    "Course": "History",
                                    "Grade": "A "
                                },
                                {
                                    "StudentName": "Logan Cooper",
                                    "Course": "Art",
                                    "Grade": "C "
                                },
                                {
                                    "StudentName": "Logan Cooper",
                                    "Course": "Physical Education",
                                    "Grade": "A "
                                },
                                {
                                    "StudentName": "Victoria Bailey",
                                    "Course": "Math",
                                    "Grade": "D "
                                },
                                {
                                    "StudentName": "Victoria Bailey",
                                    "Course": "English",
                                    "Grade": "B "
                                },
                                {
                                    "StudentName": "Victoria Bailey",
                                    "Course": "Science",
                                    "Grade": "C "
                                },
                                {
                                    "StudentName": "Victoria Bailey",
                                    "Course": "History",
                                    "Grade": "A "
                                },
                                {
                                    "StudentName": "Victoria Bailey",
                                    "Course": "Art",
                                    "Grade": "B "
                                },
                                {
                                    "StudentName": "Victoria Bailey",
                                    "Course": "Physical Education",
                                    "Grade": "A "
                                },
                                {
                                    "StudentName": "Isaac Murphy",
                                    "Course": "Math",
                                    "Grade": "A "
                                },
                                {
                                    "StudentName": "Isaac Murphy",
                                    "Course": "English",
                                    "Grade": "B "
                                },
                                {
                                    "StudentName": "Isaac Murphy",
                                    "Course": "Science",
                                    "Grade": "C "
                                },
                                {
                                    "StudentName": "Isaac Murphy",
                                    "Course": "History",
                                    "Grade": "D "
                                },
                                {
                                    "StudentName": "Isaac Murphy",
                                    "Course": "Art",
                                    "Grade": "A "
                                },
                                {
                                    "StudentName": "Isaac Murphy",
                                    "Course": "Physical Education",
                                    "Grade": "C "
                                },
                                {
                                    "StudentName": "Ellie Rivera",
                                    "Course": "Math",
                                    "Grade": "C "
                                },
                                {
                                    "StudentName": "Ellie Rivera",
                                    "Course": "English",
                                    "Grade": "D "
                                },
                                {
                                    "StudentName": "Ellie Rivera",
                                    "Course": "Science",
                                    "Grade": "A "
                                },
                                {
                                    "StudentName": "Ellie Rivera",
                                    "Course": "History",
                                    "Grade": "C "
                                },
                                {
                                    "StudentName": "Ellie Rivera",
                                    "Course": "Art",
                                    "Grade": "B "
                                },
                                {
                                    "StudentName": "Ellie Rivera",
                                    "Course": "Physical Education",
                                    "Grade": "A "
                                },
                                {
                                    "StudentName": "Aaron Richardson",
                                    "Course": "Math",
                                    "Grade": "B "
                                },
                                {
                                    "StudentName": "Aaron Richardson",
                                    "Course": "English",
                                    "Grade": "C "
                                },
                                {
                                    "StudentName": "Aaron Richardson",
                                    "Course": "Science",
                                    "Grade": "D "
                                },
                                {
                                    "StudentName": "Aaron Richardson",
                                    "Course": "History",
                                    "Grade": "A "
                                },
                                {
                                    "StudentName": "Aaron Richardson",
                                    "Course": "Art",
                                    "Grade": "B "
                                },
                                {
                                    "StudentName": "Aaron Richardson",
                                    "Course": "Physical Education",
                                    "Grade": "C "
                                },
                                {
                                    "StudentName": "Paisley Wood",
                                    "Course": "Math",
                                    "Grade": "A "
                                },
                                {
                                    "StudentName": "Paisley Wood",
                                    "Course": "English",
                                    "Grade": "B "
                                },
                                {
                                    "StudentName": "Paisley Wood",
                                    "Course": "Science",
                                    "Grade": "C "
                                },
                                {
                                    "StudentName": "Paisley Wood",
                                    "Course": "History",
                                    "Grade": "A "
                                },
                                {
                                    "StudentName": "Paisley Wood",
                                    "Course": "Art",
                                    "Grade": "D "
                                },
                                {
                                    "StudentName": "Paisley Wood",
                                    "Course": "Physical Education",
                                    "Grade": "B "
                                },
                                {
                                    "StudentName": "Luke Wright",
                                    "Course": "Math",
                                    "Grade": "C "
                                },
                                {
                                    "StudentName": "Luke Wright",
                                    "Course": "English",
                                    "Grade": "A "
                                },
                                {
                                    "StudentName": "Luke Wright",
                                    "Course": "Science",
                                    "Grade": "B "
                                },
                                {
                                    "StudentName": "Luke Wright",
                                    "Course": "History",
                                    "Grade": "D "
                                },
                                {
                                    "StudentName": "Luke Wright",
                                    "Course": "Art",
                                    "Grade": "C "
                                },
                                {
                                    "StudentName": "Luke Wright",
                                    "Course": "Physical Education",
                                    "Grade": "D "
                                },
                                {
                                    "StudentName": "Aurora Stone",
                                    "Course": "Math",
                                    "Grade": "B "
                                },
                                {
                                    "StudentName": "Aurora Stone",
                                    "Course": "English",
                                    "Grade": "D "
                                },
                                {
                                    "StudentName": "Aurora Stone",
                                    "Course": "Science",
                                    "Grade": "C "
                                },
                                {
                                    "StudentName": "Aurora Stone",
                                    "Course": "History",
                                    "Grade": "A "
                                },
                                {
                                    "StudentName": "Aurora Stone",
                                    "Course": "Art",
                                    "Grade": "B "
                                },
                                {
                                    "StudentName": "Aurora Stone",
                                    "Course": "Physical Education",
                                    "Grade": "A "
                                },
                                {
                                    "StudentName": "Christian Scott",
                                    "Course": "Math",
                                    "Grade": "A "
                                },
                                {
                                    "StudentName": "Christian Scott",
                                    "Course": "English",
                                    "Grade": "C "
                                },
                                {
                                    "StudentName": "Christian Scott",
                                    "Course": "Science",
                                    "Grade": "D "
                                },
                                {
                                    "StudentName": "Christian Scott",
                                    "Course": "History",
                                    "Grade": "B "
                                },
                                {
                                    "StudentName": "Christian Scott",
                                    "Course": "Art",
                                    "Grade": "A "
                                },
                                {
                                    "StudentName": "Christian Scott",
                                    "Course": "Physical Education",
                                    "Grade": "C "
                                },
                                {
                                    "StudentName": "Violet Torres",
                                    "Course": "Math",
                                    "Grade": "C "
                                },
                                {
                                    "StudentName": "Violet Torres",
                                    "Course": "English",
                                    "Grade": "A "
                                },
                                {
                                    "StudentName": "Violet Torres",
                                    "Course": "Science",
                                    "Grade": "B "
                                },
                                {
                                    "StudentName": "Violet Torres",
                                    "Course": "History",
                                    "Grade": "D "
                                },
                                {
                                    "StudentName": "Violet Torres",
                                    "Course": "Art",
                                    "Grade": "C "
                                },
                                {
                                    "StudentName": "Violet Torres",
                                    "Course": "Physical Education",
                                    "Grade": "D "
                                },
                                {
                                    "StudentName": "Adam Nguyen",
                                    "Course": "Math",
                                    "Grade": "B "
                                },
                                {
                                    "StudentName": "Adam Nguyen",
                                    "Course": "English",
                                    "Grade": "C "
                                },
                                {
                                    "StudentName": "Adam Nguyen",
                                    "Course": "Science",
                                    "Grade": "D "
                                },
                                {
                                    "StudentName": "Adam Nguyen",
                                    "Course": "History",
                                    "Grade": "A "
                                },
                                {
                                    "StudentName": "Adam Nguyen",
                                    "Course": "Art",
                                    "Grade": "C "
                                },
                                {
                                    "StudentName": "Adam Nguyen",
                                    "Course": "Physical Education",
                                    "Grade": "A "
                                },
                                {
                                    "StudentName": "Hazel Sanders",
                                    "Course": "Math",
                                    "Grade": "D "
                                },
                                {
                                    "StudentName": "Hazel Sanders",
                                    "Course": "English",
                                    "Grade": "B "
                                },
                                {
                                    "StudentName": "Hazel Sanders",
                                    "Course": "Science",
                                    "Grade": "C "
                                },
                                {
                                    "StudentName": "Hazel Sanders",
                                    "Course": "History",
                                    "Grade": "A "
                                },
                                {
                                    "StudentName": "Hazel Sanders",
                                    "Course": "Art",
                                    "Grade": "B "
                                },
                                {
                                    "StudentName": "Hazel Sanders",
                                    "Course": "Physical Education",
                                    "Grade": "A "
                                },
                                {
                                    "StudentName": "Dylan Gray",
                                    "Course": "Math",
                                    "Grade": "A "
                                },
                                {
                                    "StudentName": "Dylan Gray",
                                    "Course": "English",
                                    "Grade": "C "
                                },
                                {
                                    "StudentName": "Dylan Gray",
                                    "Course": "Science",
                                    "Grade": "B "
                                },
                                {
                                    "StudentName": "Dylan Gray",
                                    "Course": "History",
                                    "Grade": "D "
                                },
                                {
                                    "StudentName": "Dylan Gray",
                                    "Course": "Art",
                                    "Grade": "A "
                                },
                                {
                                    "StudentName": "Dylan Gray",
                                    "Course": "Physical Education",
                                    "Grade": "C "
                                },
                                {
                                    "StudentName": "Leah Long",
                                    "Course": "Math",
                                    "Grade": "B "
                                },
                                {
                                    "StudentName": "Leah Long",
                                    "Course": "English",
                                    "Grade": "A "
                                },
                                {
                                    "StudentName": "Leah Long",
                                    "Course": "Science",
                                    "Grade": "C "
                                },
                                {
                                    "StudentName": "Leah Long",
                                    "Course": "History",
                                    "Grade": "B "
                                },
                                {
                                    "StudentName": "Leah Long",
                                    "Course": "Art",
                                    "Grade": "D "
                                },
                                {
                                    "StudentName": "Leah Long",
                                    "Course": "Physical Education",
                                    "Grade": "A "
                                },
                                {
                                    "StudentName": "Sebastian Patterson",
                                    "Course": "Math",
                                    "Grade": "C "
                                },
                                {
                                    "StudentName": "Sebastian Patterson",
                                    "Course": "English",
                                    "Grade": "B "
                                },
                                {
                                    "StudentName": "Sebastian Patterson",
                                    "Course": "Science",
                                    "Grade": "A "
                                },
                                {
                                    "StudentName": "Sebastian Patterson",
                                    "Course": "History",
                                    "Grade": "C "
                                },
                                {
                                    "StudentName": "Sebastian Patterson",
                                    "Course": "Art",
                                    "Grade": "B "
                                },
                                {
                                    "StudentName": "Sebastian Patterson",
                                    "Course": "Physical Education",
                                    "Grade": "D "
                                },
                                {
                                    "StudentName": "Madeline Hughes",
                                    "Course": "Math",
                                    "Grade": "D "
                                },
                                {
                                    "StudentName": "Madeline Hughes",
                                    "Course": "English",
                                    "Grade": "C "
                                },
                                {
                                    "StudentName": "Madeline Hughes",
                                    "Course": "Science",
                                    "Grade": "B "
                                },
                                {
                                    "StudentName": "Madeline Hughes",
                                    "Course": "History",
                                    "Grade": "A "
                                },
                                {
                                    "StudentName": "Madeline Hughes",
                                    "Course": "Art",
                                    "Grade": "C "
                                },
                                {
                                    "StudentName": "Madeline Hughes",
                                    "Course": "Physical Education",
                                    "Grade": "A "
                                },
                                {
                                    "StudentName": "Eli Foster",
                                    "Course": "Math",
                                    "Grade": "A "
                                },
                                {
                                    "StudentName": "Eli Foster",
                                    "Course": "English",
                                    "Grade": "D "
                                },
                                {
                                    "StudentName": "Eli Foster",
                                    "Course": "Science",
                                    "Grade": "C "
                                },
                                {
                                    "StudentName": "Eli Foster",
                                    "Course": "History",
                                    "Grade": "B "
                                },
                                {
                                    "StudentName": "Eli Foster",
                                    "Course": "Art",
                                    "Grade": "A "
                                },
                                {
                                    "StudentName": "Eli Foster",
                                    "Course": "Physical Education",
                                    "Grade": "C "
                                },
                                {
                                    "StudentName": "Isla Ross",
                                    "Course": "Math",
                                    "Grade": "C "
                                },
                                {
                                    "StudentName": "Isla Ross",
                                    "Course": "English",
                                    "Grade": "A "
                                },
                                {
                                    "StudentName": "Isla Ross",
                                    "Course": "Science",
                                    "Grade": "B "
                                },
                                {
                                    "StudentName": "Isla Ross",
                                    "Course": "History",
                                    "Grade": "D "
                                },
                                {
                                    "StudentName": "Isla Ross",
                                    "Course": "Art",
                                    "Grade": "C "
                                },
                                {
                                    "StudentName": "Isla Ross",
                                    "Course": "Physical Education",
                                    "Grade": "A "
                                },
                                {
                                    "StudentName": "Hunter Howard",
                                    "Course": "Math",
                                    "Grade": "B "
                                },
                                {
                                    "StudentName": "Hunter Howard",
                                    "Course": "English",
                                    "Grade": "C "
                                },
                                {
                                    "StudentName": "Hunter Howard",
                                    "Course": "Science",
                                    "Grade": "A "
                                },
                                {
                                    "StudentName": "Hunter Howard",
                                    "Course": "History",
                                    "Grade": "C "
                                },
                                {
                                    "StudentName": "Hunter Howard",
                                    "Course": "Art",
                                    "Grade": "B "
                                },
                                {
                                    "StudentName": "Hunter Howard",
                                    "Course": "Physical Education",
                                    "Grade": "D "
                                },
                                {
                                    "StudentName": "Samantha Ward",
                                    "Course": "Math",
                                    "Grade": "D "
                                },
                                {
                                    "StudentName": "Samantha Ward",
                                    "Course": "English",
                                    "Grade": "A "
                                },
                                {
                                    "StudentName": "Samantha Ward",
                                    "Course": "Science",
                                    "Grade": "B "
                                },
                                {
                                    "StudentName": "Samantha Ward",
                                    "Course": "History",
                                    "Grade": "C "
                                },
                                {
                                    "StudentName": "Samantha Ward",
                                    "Course": "Art",
                                    "Grade": "D "
                                },
                                {
                                    "StudentName": "Samantha Ward",
                                    "Course": "Physical Education",
                                    "Grade": "A "
                                },
                                {
                                    "StudentName": "Carter Brooks",
                                    "Course": "Math",
                                    "Grade": "C "
                                },
                                {
                                    "StudentName": "Carter Brooks",
                                    "Course": "English",
                                    "Grade": "B "
                                },
                                {
                                    "StudentName": "Carter Brooks",
                                    "Course": "Science",
                                    "Grade": "A "
                                },
                                {
                                    "StudentName": "Carter Brooks",
                                    "Course": "History",
                                    "Grade": "D "
                                },
                                {
                                    "StudentName": "Carter Brooks",
                                    "Course": "Art",
                                    "Grade": "C "
                                },
                                {
                                    "StudentName": "Carter Brooks",
                                    "Course": "Physical Education",
                                    "Grade": "A "
                                },
                                {
                                    "StudentName": "Nora Price",
                                    "Course": "Math",
                                    "Grade": "B "
                                },
                                {
                                    "StudentName": "Nora Price",
                                    "Course": "English",
                                    "Grade": "D "
                                },
                                {
                                    "StudentName": "Nora Price",
                                    "Course": "Science",
                                    "Grade": "C "
                                },
                                {
                                    "StudentName": "Nora Price",
                                    "Course": "History",
                                    "Grade": "A "
                                },
                                {
                                    "StudentName": "Nora Price",
                                    "Course": "Art",
                                    "Grade": "D "
                                },
                                {
                                    "StudentName": "Nora Price",
                                    "Course": "Physical Education",
                                    "Grade": "C "
                                },
                                {
                                    "StudentName": "Adrian Russell",
                                    "Course": "Math",
                                    "Grade": "A "
                                },
                                {
                                    "StudentName": "Adrian Russell",
                                    "Course": "English",
                                    "Grade": "C "
                                },
                                {
                                    "StudentName": "Adrian Russell",
                                    "Course": "Science",
                                    "Grade": "B "
                                },
                                {
                                    "StudentName": "Adrian Russell",
                                    "Course": "History",
                                    "Grade": "D "
                                },
                                {
                                    "StudentName": "Adrian Russell",
                                    "Course": "Art",
                                    "Grade": "C "
                                },
                                {
                                    "StudentName": "Adrian Russell",
                                    "Course": "Physical Education",
                                    "Grade": "A "
                                },
                                {
                                    "StudentName": "Caroline Griffin",
                                    "Course": "Math",
                                    "Grade": "C "
                                },
                                {
                                    "StudentName": "Caroline Griffin",
                                    "Course": "English",
                                    "Grade": "B "
                                },
                                {
                                    "StudentName": "Caroline Griffin",
                                    "Course": "Science",
                                    "Grade": "A "
                                },
                                {
                                    "StudentName": "Caroline Griffin",
                                    "Course": "History",
                                    "Grade": "B "
                                },
                                {
                                    "StudentName": "Caroline Griffin",
                                    "Course": "Art",
                                    "Grade": "D "
                                },
                                {
                                    "StudentName": "Caroline Griffin",
                                    "Course": "Physical Education",
                                    "Grade": "C "
                                },
                                {
                                    "StudentName": "Jonathan Diaz",
                                    "Course": "Math",
                                    "Grade": "B "
                                },
                                {
                                    "StudentName": "Jonathan Diaz",
                                    "Course": "English",
                                    "Grade": "D "
                                },
                                {
                                    "StudentName": "Jonathan Diaz",
                                    "Course": "Science",
                                    "Grade": "C "
                                },
                                {
                                    "StudentName": "Jonathan Diaz",
                                    "Course": "History",
                                    "Grade": "A "
                                },
                                {
                                    "StudentName": "Jonathan Diaz",
                                    "Course": "Art",
                                    "Grade": "B "
                                },
                                {
                                    "StudentName": "Jonathan Diaz",
                                    "Course": "Physical Education",
                                    "Grade": "A "
                                },
                                {
                                    "StudentName": "Bella Hayes",
                                    "Course": "Math",
                                    "Grade": "D "
                                },
                                {
                                    "StudentName": "Bella Hayes",
                                    "Course": "English",
                                    "Grade": "C "
                                },
                                {
                                    "StudentName": "Bella Hayes",
                                    "Course": "Science",
                                    "Grade": "A "
                                },
                                {
                                    "StudentName": "Bella Hayes",
                                    "Course": "History",
                                    "Grade": "B "
                                },
                                {
                                    "StudentName": "Bella Hayes",
                                    "Course": "Art",
                                    "Grade": "A "
                                },
                                {
                                    "StudentName": "Bella Hayes",
                                    "Course": "Physical Education",
                                    "Grade": "C "
                                },
                                {
                                    "StudentName": "Levi Myers",
                                    "Course": "Math",
                                    "Grade": "A "
                                },
                                {
                                    "StudentName": "Levi Myers",
                                    "Course": "English",
                                    "Grade": "B "
                                },
                                {
                                    "StudentName": "Levi Myers",
                                    "Course": "Science",
                                    "Grade": "C "
                                },
                                {
                                    "StudentName": "Levi Myers",
                                    "Course": "History",
                                    "Grade": "A "
                                },
                                {
                                    "StudentName": "Levi Myers",
                                    "Course": "Art",
                                    "Grade": "D "
                                },
                                {
                                    "StudentName": "Levi Myers",
                                    "Course": "Physical Education",
                                    "Grade": "B "
                                },
                                {
                                    "StudentName": "Savannah Ford",
                                    "Course": "Math",
                                    "Grade": "C "
                                },
                                {
                                    "StudentName": "Savannah Ford",
                                    "Course": "English",
                                    "Grade": "A "
                                },
                                {
                                    "StudentName": "Savannah Ford",
                                    "Course": "Science",
                                    "Grade": "B "
                                },
                                {
                                    "StudentName": "Savannah Ford",
                                    "Course": "History",
                                    "Grade": "D "
                                },
                                {
                                    "StudentName": "Savannah Ford",
                                    "Course": "Art",
                                    "Grade": "C "
                                },
                                {
                                    "StudentName": "Savannah Ford",
                                    "Course": "Physical Education",
                                    "Grade": "D "
                                },
                                {
                                    "StudentName": "Owen Hamilton",
                                    "Course": "Math",
                                    "Grade": "B "
                                },
                                {
                                    "StudentName": "Owen Hamilton",
                                    "Course": "English",
                                    "Grade": "C "
                                },
                                {
                                    "StudentName": "Owen Hamilton",
                                    "Course": "Science",
                                    "Grade": "A "
                                },
                                {
                                    "StudentName": "Owen Hamilton",
                                    "Course": "History",
                                    "Grade": "B "
                                },
                                {
                                    "StudentName": "Owen Hamilton",
                                    "Course": "Art",
                                    "Grade": "D "
                                },
                                {
                                    "StudentName": "Owen Hamilton",
                                    "Course": "Physical Education",
                                    "Grade": "A "
                                },
                                {
                                    "StudentName": "Aubrey Graham",
                                    "Course": "Math",
                                    "Grade": "C "
                                },
                                {
                                    "StudentName": "Aubrey Graham",
                                    "Course": "English",
                                    "Grade": "A "
                                },
                                {
                                    "StudentName": "Aubrey Graham",
                                    "Course": "Science",
                                    "Grade": "D "
                                },
                                {
                                    "StudentName": "Aubrey Graham",
                                    "Course": "History",
                                    "Grade": "C "
                                },
                                {
                                    "StudentName": "Aubrey Graham",
                                    "Course": "Art",
                                    "Grade": "A "
                                },
                                {
                                    "StudentName": "Aubrey Graham",
                                    "Course": "Physical Education",
                                    "Grade": "B "
                                },
                                {
                                    "StudentName": "Jackson Cruz",
                                    "Course": "Math",
                                    "Grade": "B "
                                },
                                {
                                    "StudentName": "Jackson Cruz",
                                    "Course": "English",
                                    "Grade": "C "
                                },
                                {
                                    "StudentName": "Jackson Cruz",
                                    "Course": "Science",
                                    "Grade": "A "
                                },
                                {
                                    "StudentName": "Jackson Cruz",
                                    "Course": "History",
                                    "Grade": "D "
                                },
                                {
                                    "StudentName": "Jackson Cruz",
                                    "Course": "Art",
                                    "Grade": "C "
                                },
                                {
                                    "StudentName": "Jackson Cruz",
                                    "Course": "Physical Education",
                                    "Grade": "A "
                                },
                                {
                                    "StudentName": "Layla Owens",
                                    "Course": "Math",
                                    "Grade": "D "
                                },
                                {
                                    "StudentName": "Layla Owens",
                                    "Course": "English",
                                    "Grade": "B "
                                },
                                {
                                    "StudentName": "Layla Owens",
                                    "Course": "Science",
                                    "Grade": "C "
                                },
                                {
                                    "StudentName": "Layla Owens",
                                    "Course": "History",
                                    "Grade": "A "
                                },
                                {
                                    "StudentName": "Layla Owens",
                                    "Course": "Art",
                                    "Grade": "D "
                                },
                                {
                                    "StudentName": "Layla Owens",
                                    "Course": "Physical Education",
                                    "Grade": "C "
                                },
                                {
                                    "StudentName": "Julian Simpson",
                                    "Course": "Math",
                                    "Grade": "B "
                                },
                                {
                                    "StudentName": "Julian Simpson",
                                    "Course": "English",
                                    "Grade": "C "
                                },
                                {
                                    "StudentName": "Julian Simpson",
                                    "Course": "Science",
                                    "Grade": "A "
                                },
                                {
                                    "StudentName": "Julian Simpson",
                                    "Course": "History",
                                    "Grade": "D "
                                },
                                {
                                    "StudentName": "Julian Simpson",
                                    "Course": "Art",
                                    "Grade": "C "
                                },
                                {
                                    "StudentName": "Julian Simpson",
                                    "Course": "Physical Education",
                                    "Grade": "B "
                                },
                                {
                                    "StudentName": "Lila Henderson",
                                    "Course": "Math",
                                    "Grade": "C "
                                },
                                {
                                    "StudentName": "Lila Henderson",
                                    "Course": "English",
                                    "Grade": "A "
                                },
                                {
                                    "StudentName": "Lila Henderson",
                                    "Course": "Science",
                                    "Grade": "B "
                                },
                                {
                                    "StudentName": "Lila Henderson",
                                    "Course": "History",
                                    "Grade": "C "
                                },
                                {
                                    "StudentName": "Lila Henderson",
                                    "Course": "Art",
                                    "Grade": "D "
                                },
                                {
                                    "StudentName": "Lila Henderson",
                                    "Course": "Physical Education",
                                    "Grade": "A "
                                },
                                {
                                    "StudentName": "Ezra Cole",
                                    "Course": "Math",
                                    "Grade": "D "
                                },
                                {
                                    "StudentName": "Ezra Cole",
                                    "Course": "English",
                                    "Grade": "C "
                                },
                                {
                                    "StudentName": "Ezra Cole",
                                    "Course": "Science",
                                    "Grade": "B "
                                },
                                {
                                    "StudentName": "Ezra Cole",
                                    "Course": "History",
                                    "Grade": "A "
                                },
                                {
                                    "StudentName": "Ezra Cole",
                                    "Course": "Art",
                                    "Grade": "C "
                                },
                                {
                                    "StudentName": "Ezra Cole",
                                    "Course": "Physical Education",
                                    "Grade": "D "
                                },
                                {
                                    "StudentName": "Maya Wallace",
                                    "Course": "Math",
                                    "Grade": "A "
                                },
                                {
                                    "StudentName": "Maya Wallace",
                                    "Course": "English",
                                    "Grade": "B "
                                },
                                {
                                    "StudentName": "Maya Wallace",
                                    "Course": "Science",
                                    "Grade": "D "
                                },
                                {
                                    "StudentName": "Maya Wallace",
                                    "Course": "History",
                                    "Grade": "C "
                                },
                                {
                                    "StudentName": "Maya Wallace",
                                    "Course": "Art",
                                    "Grade": "A "
                                },
                                {
                                    "StudentName": "Maya Wallace",
                                    "Course": "Physical Education",
                                    "Grade": "C "
                                },
                                {
                                    "StudentName": "Isaiah Stephens",
                                    "Course": "Math",
                                    "Grade": "B "
                                },
                                {
                                    "StudentName": "Isaiah Stephens",
                                    "Course": "English",
                                    "Grade": "C "
                                },
                                {
                                    "StudentName": "Isaiah Stephens",
                                    "Course": "Science",
                                    "Grade": "A "
                                },
                                {
                                    "StudentName": "Isaiah Stephens",
                                    "Course": "History",
                                    "Grade": "D "
                                },
                                {
                                    "StudentName": "Isaiah Stephens",
                                    "Course": "Art",
                                    "Grade": "C "
                                },
                                {
                                    "StudentName": "Isaiah Stephens",
                                    "Course": "Physical Education",
                                    "Grade": "A "
                                },
                                {
                                    "StudentName": "Autumn Bennett",
                                    "Course": "Math",
                                    "Grade": "D "
                                },
                                {
                                    "StudentName": "Autumn Bennett",
                                    "Course": "English",
                                    "Grade": "B "
                                },
                                {
                                    "StudentName": "Autumn Bennett",
                                    "Course": "Science",
                                    "Grade": "C "
                                },
                                {
                                    "StudentName": "Autumn Bennett",
                                    "Course": "History",
                                    "Grade": "A "
                                },
                                {
                                    "StudentName": "Autumn Bennett",
                                    "Course": "Art",
                                    "Grade": "B "
                                },
                                {
                                    "StudentName": "Autumn Bennett",
                                    "Course": "Physical Education",
                                    "Grade": "C "
                                },
                                {
                                    "StudentName": "Hudson Barnes",
                                    "Course": "Math",
                                    "Grade": "C "
                                },
                                {
                                    "StudentName": "Hudson Barnes",
                                    "Course": "English",
                                    "Grade": "A "
                                },
                                {
                                    "StudentName": "Hudson Barnes",
                                    "Course": "Science",
                                    "Grade": "B "
                                },
                                {
                                    "StudentName": "Hudson Barnes",
                                    "Course": "History",
                                    "Grade": "D "
                                },
                                {
                                    "StudentName": "Hudson Barnes",
                                    "Course": "Art",
                                    "Grade": "C "
                                },
                                {
                                    "StudentName": "Hudson Barnes",
                                    "Course": "Physical Education",
                                    "Grade": "D "
                                },
                                {
                                    "StudentName": "Natalie Murray",
                                    "Course": "Math",
                                    "Grade": "B "
                                },
                                {
                                    "StudentName": "Natalie Murray",
                                    "Course": "English",
                                    "Grade": "C "
                                },
                                {
                                    "StudentName": "Natalie Murray",
                                    "Course": "Science",
                                    "Grade": "A "
                                },
                                {
                                    "StudentName": "Natalie Murray",
                                    "Course": "History",
                                    "Grade": "B "
                                },
                                {
                                    "StudentName": "Natalie Murray",
                                    "Course": "Art",
                                    "Grade": "D "
                                },
                                {
                                    "StudentName": "Natalie Murray",
                                    "Course": "Physical Education",
                                    "Grade": "C "
                                },
                                {
                                    "StudentName": "Grayson Reyes",
                                    "Course": "Math",
                                    "Grade": "D "
                                },
                                {
                                    "StudentName": "Grayson Reyes",
                                    "Course": "English",
                                    "Grade": "B "
                                },
                                {
                                    "StudentName": "Grayson Reyes",
                                    "Course": "Science",
                                    "Grade": "C "
                                },
                                {
                                    "StudentName": "Grayson Reyes",
                                    "Course": "History",
                                    "Grade": "A "
                                },
                                {
                                    "StudentName": "Grayson Reyes",
                                    "Course": "Art",
                                    "Grade": "B "
                                },
                                {
                                    "StudentName": "Grayson Reyes",
                                    "Course": "Physical Education",
                                    "Grade": "D "
                                },
                                {
                                    "StudentName": "Elena Mendoza",
                                    "Course": "Math",
                                    "Grade": "C "
                                },
                                {
                                    "StudentName": "Elena Mendoza",
                                    "Course": "English",
                                    "Grade": "A "
                                },
                                {
                                    "StudentName": "Elena Mendoza",
                                    "Course": "Science",
                                    "Grade": "B "
                                },
                                {
                                    "StudentName": "Elena Mendoza",
                                    "Course": "History",
                                    "Grade": "D "
                                },
                                {
                                    "StudentName": "Elena Mendoza",
                                    "Course": "Art",
                                    "Grade": "C "
                                },
                                {
                                    "StudentName": "Elena Mendoza",
                                    "Course": "Physical Education",
                                    "Grade": "A "
                                }
                            ]
                        },
                        "text/html": "<table><tr><th>StudentName</th><th>Course</th><th>Grade</th></tr><tr><td>Oliver Smith</td><td>Math</td><td>A </td></tr><tr><td>Oliver Smith</td><td>English</td><td>B </td></tr><tr><td>Oliver Smith</td><td>Science</td><td>C </td></tr><tr><td>Oliver Smith</td><td>History</td><td>A </td></tr><tr><td>Oliver Smith</td><td>Art</td><td>B </td></tr><tr><td>Oliver Smith</td><td>Physical Education</td><td>C </td></tr><tr><td>Sophia Johnson</td><td>Math</td><td>B </td></tr><tr><td>Sophia Johnson</td><td>English</td><td>A </td></tr><tr><td>Sophia Johnson</td><td>Science</td><td>D </td></tr><tr><td>Sophia Johnson</td><td>History</td><td>C </td></tr><tr><td>Sophia Johnson</td><td>Art</td><td>A </td></tr><tr><td>Sophia Johnson</td><td>Physical Education</td><td>B </td></tr><tr><td>Liam Williams</td><td>Math</td><td>C </td></tr><tr><td>Liam Williams</td><td>English</td><td>D </td></tr><tr><td>Liam Williams</td><td>Science</td><td>A </td></tr><tr><td>Liam Williams</td><td>History</td><td>B </td></tr><tr><td>Liam Williams</td><td>Art</td><td>C </td></tr><tr><td>Liam Williams</td><td>Physical Education</td><td>A </td></tr><tr><td>Emma Brown</td><td>Math</td><td>D </td></tr><tr><td>Emma Brown</td><td>English</td><td>B </td></tr><tr><td>Emma Brown</td><td>Science</td><td>C </td></tr><tr><td>Emma Brown</td><td>History</td><td>D </td></tr><tr><td>Emma Brown</td><td>Art</td><td>A </td></tr><tr><td>Emma Brown</td><td>Physical Education</td><td>B </td></tr><tr><td>Noah Jones</td><td>Math</td><td>B </td></tr><tr><td>Noah Jones</td><td>English</td><td>A </td></tr><tr><td>Noah Jones</td><td>Science</td><td>C </td></tr><tr><td>Noah Jones</td><td>History</td><td>D </td></tr><tr><td>Noah Jones</td><td>Art</td><td>E </td></tr><tr><td>Noah Jones</td><td>Physical Education</td><td>A </td></tr><tr><td>Ava Garcia</td><td>Math</td><td>A </td></tr><tr><td>Ava Garcia</td><td>English</td><td>C </td></tr><tr><td>Ava Garcia</td><td>Science</td><td>B </td></tr><tr><td>Ava Garcia</td><td>History</td><td>C </td></tr><tr><td>Ava Garcia</td><td>Art</td><td>D </td></tr><tr><td>Ava Garcia</td><td>Physical Education</td><td>A </td></tr><tr><td>Elijah Miller</td><td>Math</td><td>C </td></tr><tr><td>Elijah Miller</td><td>English</td><td>A </td></tr><tr><td>Elijah Miller</td><td>Science</td><td>B </td></tr><tr><td>Elijah Miller</td><td>History</td><td>A </td></tr><tr><td>Elijah Miller</td><td>Art</td><td>C </td></tr><tr><td>Elijah Miller</td><td>Physical Education</td><td>B </td></tr><tr><td>Isabella Martinez</td><td>Math</td><td>B </td></tr><tr><td>Isabella Martinez</td><td>English</td><td>C </td></tr><tr><td>Isabella Martinez</td><td>Science</td><td>A </td></tr><tr><td>Isabella Martinez</td><td>History</td><td>B </td></tr><tr><td>Isabella Martinez</td><td>Art</td><td>A </td></tr><tr><td>Isabella Martinez</td><td>Physical Education</td><td>D </td></tr><tr><td>Lucas Davis</td><td>Math</td><td>D </td></tr><tr><td>Lucas Davis</td><td>English</td><td>B </td></tr><tr><td>Lucas Davis</td><td>Science</td><td>A </td></tr><tr><td>Lucas Davis</td><td>History</td><td>C </td></tr><tr><td>Lucas Davis</td><td>Art</td><td>B </td></tr><tr><td>Lucas Davis</td><td>Physical Education</td><td>A </td></tr><tr><td>Mia Rodriguez</td><td>Math</td><td>A </td></tr><tr><td>Mia Rodriguez</td><td>English</td><td>C </td></tr><tr><td>Mia Rodriguez</td><td>Science</td><td>B </td></tr><tr><td>Mia Rodriguez</td><td>History</td><td>E </td></tr><tr><td>Mia Rodriguez</td><td>Art</td><td>A </td></tr><tr><td>Mia Rodriguez</td><td>Physical Education</td><td>C </td></tr><tr><td>James Lopez</td><td>Math</td><td>A </td></tr><tr><td>James Lopez</td><td>English</td><td>B </td></tr><tr><td>James Lopez</td><td>Science</td><td>D </td></tr><tr><td>James Lopez</td><td>History</td><td>B </td></tr><tr><td>James Lopez</td><td>Art</td><td>C </td></tr><tr><td>James Lopez</td><td>Physical Education</td><td>B </td></tr><tr><td>Charlotte Wilson</td><td>Math</td><td>D </td></tr><tr><td>Charlotte Wilson</td><td>English</td><td>C </td></tr><tr><td>Charlotte Wilson</td><td>Science</td><td>A </td></tr><tr><td>Charlotte Wilson</td><td>History</td><td>A </td></tr><tr><td>Charlotte Wilson</td><td>Art</td><td>B </td></tr><tr><td>Charlotte Wilson</td><td>Physical Education</td><td>C </td></tr><tr><td>Benjamin Anderson</td><td>Math</td><td>B </td></tr><tr><td>Benjamin Anderson</td><td>English</td><td>A </td></tr><tr><td>Benjamin Anderson</td><td>Science</td><td>C </td></tr><tr><td>Benjamin Anderson</td><td>History</td><td>D </td></tr><tr><td>Benjamin Anderson</td><td>Art</td><td>A </td></tr><tr><td>Benjamin Anderson</td><td>Physical Education</td><td>C </td></tr><tr><td>Amelia Thomas</td><td>Math</td><td>C </td></tr><tr><td>Amelia Thomas</td><td>English</td><td>B </td></tr><tr><td>Amelia Thomas</td><td>Science</td><td>A </td></tr><tr><td>Amelia Thomas</td><td>History</td><td>C </td></tr><tr><td>Amelia Thomas</td><td>Art</td><td>D </td></tr><tr><td>Amelia Thomas</td><td>Physical Education</td><td>B </td></tr><tr><td>Henry Taylor</td><td>Math</td><td>A </td></tr><tr><td>Henry Taylor</td><td>English</td><td>C </td></tr><tr><td>Henry Taylor</td><td>Science</td><td>D </td></tr><tr><td>Henry Taylor</td><td>History</td><td>A </td></tr><tr><td>Henry Taylor</td><td>Art</td><td>B </td></tr><tr><td>Henry Taylor</td><td>Physical Education</td><td>D </td></tr><tr><td>Evelyn Hernandez</td><td>Math</td><td>B </td></tr><tr><td>Evelyn Hernandez</td><td>English</td><td>A </td></tr><tr><td>Evelyn Hernandez</td><td>Science</td><td>C </td></tr><tr><td>Evelyn Hernandez</td><td>History</td><td>D </td></tr><tr><td>Evelyn Hernandez</td><td>Art</td><td>A </td></tr><tr><td>Evelyn Hernandez</td><td>Physical Education</td><td>B </td></tr><tr><td>Alexander Moore</td><td>Math</td><td>C </td></tr><tr><td>Alexander Moore</td><td>English</td><td>B </td></tr><tr><td>Alexander Moore</td><td>Science</td><td>A </td></tr><tr><td>Alexander Moore</td><td>History</td><td>B </td></tr><tr><td>Alexander Moore</td><td>Art</td><td>C </td></tr><tr><td>Alexander Moore</td><td>Physical Education</td><td>D </td></tr><tr><td>Harper Martin</td><td>Math</td><td>D </td></tr><tr><td>Harper Martin</td><td>English</td><td>A </td></tr><tr><td>Harper Martin</td><td>Science</td><td>B </td></tr><tr><td>Harper Martin</td><td>History</td><td>C </td></tr><tr><td>Harper Martin</td><td>Art</td><td>A </td></tr><tr><td>Harper Martin</td><td>Physical Education</td><td>C </td></tr><tr><td>Michael Jackson</td><td>Math</td><td>A </td></tr><tr><td>Michael Jackson</td><td>English</td><td>C </td></tr><tr><td>Michael Jackson</td><td>Science</td><td>D </td></tr><tr><td>Michael Jackson</td><td>History</td><td>B </td></tr><tr><td>Michael Jackson</td><td>Art</td><td>C </td></tr><tr><td>Michael Jackson</td><td>Physical Education</td><td>A </td></tr><tr><td>Abigail Lee</td><td>Math</td><td>B </td></tr><tr><td>Abigail Lee</td><td>English</td><td>D </td></tr><tr><td>Abigail Lee</td><td>Science</td><td>A </td></tr><tr><td>Abigail Lee</td><td>History</td><td>C </td></tr><tr><td>Abigail Lee</td><td>Art</td><td>B </td></tr><tr><td>Abigail Lee</td><td>Physical Education</td><td>D </td></tr><tr><td>Daniel Perez</td><td>Math</td><td>B </td></tr><tr><td>Daniel Perez</td><td>English</td><td>A </td></tr><tr><td>Daniel Perez</td><td>Science</td><td>C </td></tr><tr><td>Daniel Perez</td><td>History</td><td>D </td></tr><tr><td>Daniel Perez</td><td>Art</td><td>B </td></tr><tr><td>Daniel Perez</td><td>Physical Education</td><td>C </td></tr><tr><td>Ella White</td><td>Math</td><td>C </td></tr><tr><td>Ella White</td><td>English</td><td>B </td></tr><tr><td>Ella White</td><td>Science</td><td>A </td></tr><tr><td>Ella White</td><td>History</td><td>A </td></tr><tr><td>Ella White</td><td>Art</td><td>C </td></tr><tr><td>Ella White</td><td>Physical Education</td><td>B </td></tr><tr><td>Matthew Harris</td><td>Math</td><td>D </td></tr><tr><td>Matthew Harris</td><td>English</td><td>A </td></tr><tr><td>Matthew Harris</td><td>Science</td><td>B </td></tr><tr><td>Matthew Harris</td><td>History</td><td>C </td></tr><tr><td>Matthew Harris</td><td>Art</td><td>D </td></tr><tr><td>Matthew Harris</td><td>Physical Education</td><td>A </td></tr><tr><td>Lily Clark</td><td>Math</td><td>A </td></tr><tr><td>Lily Clark</td><td>English</td><td>C </td></tr><tr><td>Lily Clark</td><td>Science</td><td>D </td></tr><tr><td>Lily Clark</td><td>History</td><td>B </td></tr><tr><td>Lily Clark</td><td>Art</td><td>A </td></tr><tr><td>Lily Clark</td><td>Physical Education</td><td>C </td></tr><tr><td>Joseph Lewis</td><td>Math</td><td>C </td></tr><tr><td>Joseph Lewis</td><td>English</td><td>D </td></tr><tr><td>Joseph Lewis</td><td>Science</td><td>A </td></tr><tr><td>Joseph Lewis</td><td>History</td><td>C </td></tr><tr><td>Joseph Lewis</td><td>Art</td><td>B </td></tr><tr><td>Joseph Lewis</td><td>Physical Education</td><td>D </td></tr><tr><td>Grace Robinson</td><td>Math</td><td>B </td></tr><tr><td>Grace Robinson</td><td>English</td><td>C </td></tr><tr><td>Grace Robinson</td><td>Science</td><td>D </td></tr><tr><td>Grace Robinson</td><td>History</td><td>A </td></tr><tr><td>Grace Robinson</td><td>Art</td><td>C </td></tr><tr><td>Grace Robinson</td><td>Physical Education</td><td>A </td></tr><tr><td>David Walker</td><td>Math</td><td>A </td></tr><tr><td>David Walker</td><td>English</td><td>B </td></tr><tr><td>David Walker</td><td>Science</td><td>C </td></tr><tr><td>David Walker</td><td>History</td><td>D </td></tr><tr><td>David Walker</td><td>Art</td><td>A </td></tr><tr><td>David Walker</td><td>Physical Education</td><td>B </td></tr><tr><td>Chloe Hall</td><td>Math</td><td>C </td></tr><tr><td>Chloe Hall</td><td>English</td><td>D </td></tr><tr><td>Chloe Hall</td><td>Science</td><td>B </td></tr><tr><td>Chloe Hall</td><td>History</td><td>A </td></tr><tr><td>Chloe Hall</td><td>Art</td><td>D </td></tr><tr><td>Chloe Hall</td><td>Physical Education</td><td>C </td></tr><tr><td>Samuel Allen</td><td>Math</td><td>B </td></tr><tr><td>Samuel Allen</td><td>English</td><td>C </td></tr><tr><td>Samuel Allen</td><td>Science</td><td>A </td></tr><tr><td>Samuel Allen</td><td>History</td><td>B </td></tr><tr><td>Samuel Allen</td><td>Art</td><td>C </td></tr><tr><td>Samuel Allen</td><td>Physical Education</td><td>D </td></tr><tr><td>Scarlett Young</td><td>Math</td><td>D </td></tr><tr><td>Scarlett Young</td><td>English</td><td>A </td></tr><tr><td>Scarlett Young</td><td>Science</td><td>B </td></tr><tr><td>Scarlett Young</td><td>History</td><td>C </td></tr><tr><td>Scarlett Young</td><td>Art</td><td>A </td></tr><tr><td>Scarlett Young</td><td>Physical Education</td><td>B </td></tr><tr><td>Andrew King</td><td>Math</td><td>A </td></tr><tr><td>Andrew King</td><td>English</td><td>C </td></tr><tr><td>Andrew King</td><td>Science</td><td>B </td></tr><tr><td>Andrew King</td><td>History</td><td>D </td></tr><tr><td>Andrew King</td><td>Art</td><td>A </td></tr><tr><td>Andrew King</td><td>Physical Education</td><td>C </td></tr><tr><td>Lillian Scott</td><td>Math</td><td>B </td></tr><tr><td>Lillian Scott</td><td>English</td><td>A </td></tr><tr><td>Lillian Scott</td><td>Science</td><td>C </td></tr><tr><td>Lillian Scott</td><td>History</td><td>B </td></tr><tr><td>Lillian Scott</td><td>Art</td><td>D </td></tr><tr><td>Lillian Scott</td><td>Physical Education</td><td>A </td></tr><tr><td>Anthony Green</td><td>Math</td><td>C </td></tr><tr><td>Anthony Green</td><td>English</td><td>B </td></tr><tr><td>Anthony Green</td><td>Science</td><td>A </td></tr><tr><td>Anthony Green</td><td>History</td><td>C </td></tr><tr><td>Anthony Green</td><td>Art</td><td>B </td></tr><tr><td>Anthony Green</td><td>Physical Education</td><td>D </td></tr><tr><td>Aria Adams</td><td>Math</td><td>D </td></tr><tr><td>Aria Adams</td><td>English</td><td>C </td></tr><tr><td>Aria Adams</td><td>Science</td><td>B </td></tr><tr><td>Aria Adams</td><td>History</td><td>A </td></tr><tr><td>Aria Adams</td><td>Art</td><td>C </td></tr><tr><td>Aria Adams</td><td>Physical Education</td><td>A </td></tr><tr><td>Christopher Baker</td><td>Math</td><td>A </td></tr><tr><td>Christopher Baker</td><td>English</td><td>D </td></tr><tr><td>Christopher Baker</td><td>Science</td><td>C </td></tr><tr><td>Christopher Baker</td><td>History</td><td>B </td></tr><tr><td>Christopher Baker</td><td>Art</td><td>A </td></tr><tr><td>Christopher Baker</td><td>Physical Education</td><td>C </td></tr><tr><td>Sofia Gonzalez</td><td>Math</td><td>C </td></tr><tr><td>Sofia Gonzalez</td><td>English</td><td>A </td></tr><tr><td>Sofia Gonzalez</td><td>Science</td><td>B </td></tr><tr><td>Sofia Gonzalez</td><td>History</td><td>D </td></tr><tr><td>Sofia Gonzalez</td><td>Art</td><td>C </td></tr><tr><td>Sofia Gonzalez</td><td>Physical Education</td><td>A </td></tr><tr><td>Joshua Nelson</td><td>Math</td><td>B </td></tr><tr><td>Joshua Nelson</td><td>English</td><td>C </td></tr><tr><td>Joshua Nelson</td><td>Science</td><td>A </td></tr><tr><td>Joshua Nelson</td><td>History</td><td>C </td></tr><tr><td>Joshua Nelson</td><td>Art</td><td>B </td></tr><tr><td>Joshua Nelson</td><td>Physical Education</td><td>D </td></tr><tr><td>Penelope Carter</td><td>Math</td><td>D </td></tr><tr><td>Penelope Carter</td><td>English</td><td>A </td></tr><tr><td>Penelope Carter</td><td>Science</td><td>B </td></tr><tr><td>Penelope Carter</td><td>History</td><td>C </td></tr><tr><td>Penelope Carter</td><td>Art</td><td>D </td></tr><tr><td>Penelope Carter</td><td>Physical Education</td><td>A </td></tr><tr><td>Ethan Mitchell</td><td>Math</td><td>C </td></tr><tr><td>Ethan Mitchell</td><td>English</td><td>B </td></tr><tr><td>Ethan Mitchell</td><td>Science</td><td>A </td></tr><tr><td>Ethan Mitchell</td><td>History</td><td>D </td></tr><tr><td>Ethan Mitchell</td><td>Art</td><td>C </td></tr><tr><td>Ethan Mitchell</td><td>Physical Education</td><td>A </td></tr><tr><td>Hannah Perez</td><td>Math</td><td>B </td></tr><tr><td>Hannah Perez</td><td>English</td><td>D </td></tr><tr><td>Hannah Perez</td><td>Science</td><td>C </td></tr><tr><td>Hannah Perez</td><td>History</td><td>A </td></tr><tr><td>Hannah Perez</td><td>Art</td><td>B </td></tr><tr><td>Hannah Perez</td><td>Physical Education</td><td>D </td></tr><tr><td>Nathan Collins</td><td>Math</td><td>A </td></tr><tr><td>Nathan Collins</td><td>English</td><td>B </td></tr><tr><td>Nathan Collins</td><td>Science</td><td>C </td></tr><tr><td>Nathan Collins</td><td>History</td><td>D </td></tr><tr><td>Nathan Collins</td><td>Art</td><td>A </td></tr><tr><td>Nathan Collins</td><td>Physical Education</td><td>C </td></tr><tr><td>Zoe Turner</td><td>Math</td><td>C </td></tr><tr><td>Zoe Turner</td><td>English</td><td>D </td></tr><tr><td>Zoe Turner</td><td>Science</td><td>A </td></tr><tr><td>Zoe Turner</td><td>History</td><td>C </td></tr><tr><td>Zoe Turner</td><td>Art</td><td>B </td></tr><tr><td>Zoe Turner</td><td>Physical Education</td><td>A </td></tr><tr><td>Ryan Edwards</td><td>Math</td><td>B </td></tr><tr><td>Ryan Edwards</td><td>English</td><td>C </td></tr><tr><td>Ryan Edwards</td><td>Science</td><td>D </td></tr><tr><td>Ryan Edwards</td><td>History</td><td>A </td></tr><tr><td>Ryan Edwards</td><td>Art</td><td>B </td></tr><tr><td>Ryan Edwards</td><td>Physical Education</td><td>C </td></tr><tr><td>Audrey Morris</td><td>Math</td><td>A </td></tr><tr><td>Audrey Morris</td><td>English</td><td>B </td></tr><tr><td>Audrey Morris</td><td>Science</td><td>C </td></tr><tr><td>Audrey Morris</td><td>History</td><td>A </td></tr><tr><td>Audrey Morris</td><td>Art</td><td>D </td></tr><tr><td>Audrey Morris</td><td>Physical Education</td><td>B </td></tr><tr><td>Caleb Hughes</td><td>Math</td><td>C </td></tr><tr><td>Caleb Hughes</td><td>English</td><td>A </td></tr><tr><td>Caleb Hughes</td><td>Science</td><td>B </td></tr><tr><td>Caleb Hughes</td><td>History</td><td>D </td></tr><tr><td>Caleb Hughes</td><td>Art</td><td>C </td></tr><tr><td>Caleb Hughes</td><td>Physical Education</td><td>D </td></tr><tr><td>Lucy Reed</td><td>Math</td><td>B </td></tr><tr><td>Lucy Reed</td><td>English</td><td>D </td></tr><tr><td>Lucy Reed</td><td>Science</td><td>C </td></tr><tr><td>Lucy Reed</td><td>History</td><td>A </td></tr><tr><td>Lucy Reed</td><td>Art</td><td>B </td></tr><tr><td>Lucy Reed</td><td>Physical Education</td><td>A </td></tr><tr><td>Nathaniel Cook</td><td>Math</td><td>A </td></tr><tr><td>Nathaniel Cook</td><td>English</td><td>C </td></tr><tr><td>Nathaniel Cook</td><td>Science</td><td>D </td></tr><tr><td>Nathaniel Cook</td><td>History</td><td>B </td></tr><tr><td>Nathaniel Cook</td><td>Art</td><td>A </td></tr><tr><td>Nathaniel Cook</td><td>Physical Education</td><td>C </td></tr><tr><td>Stella Bell</td><td>Math</td><td>C </td></tr><tr><td>Stella Bell</td><td>English</td><td>A </td></tr><tr><td>Stella Bell</td><td>Science</td><td>B </td></tr><tr><td>Stella Bell</td><td>History</td><td>D </td></tr><tr><td>Stella Bell</td><td>Art</td><td>C </td></tr><tr><td>Stella Bell</td><td>Physical Education</td><td>D </td></tr><tr><td>Logan Cooper</td><td>Math</td><td>B </td></tr><tr><td>Logan Cooper</td><td>English</td><td>C </td></tr><tr><td>Logan Cooper</td><td>Science</td><td>D </td></tr><tr><td>Logan Cooper</td><td>History</td><td>A </td></tr><tr><td>Logan Cooper</td><td>Art</td><td>C </td></tr><tr><td>Logan Cooper</td><td>Physical Education</td><td>A </td></tr><tr><td>Victoria Bailey</td><td>Math</td><td>D </td></tr><tr><td>Victoria Bailey</td><td>English</td><td>B </td></tr><tr><td>Victoria Bailey</td><td>Science</td><td>C </td></tr><tr><td>Victoria Bailey</td><td>History</td><td>A </td></tr><tr><td>Victoria Bailey</td><td>Art</td><td>B </td></tr><tr><td>Victoria Bailey</td><td>Physical Education</td><td>A </td></tr><tr><td>Isaac Murphy</td><td>Math</td><td>A </td></tr><tr><td>Isaac Murphy</td><td>English</td><td>B </td></tr><tr><td>Isaac Murphy</td><td>Science</td><td>C </td></tr><tr><td>Isaac Murphy</td><td>History</td><td>D </td></tr><tr><td>Isaac Murphy</td><td>Art</td><td>A </td></tr><tr><td>Isaac Murphy</td><td>Physical Education</td><td>C </td></tr><tr><td>Ellie Rivera</td><td>Math</td><td>C </td></tr><tr><td>Ellie Rivera</td><td>English</td><td>D </td></tr><tr><td>Ellie Rivera</td><td>Science</td><td>A </td></tr><tr><td>Ellie Rivera</td><td>History</td><td>C </td></tr><tr><td>Ellie Rivera</td><td>Art</td><td>B </td></tr><tr><td>Ellie Rivera</td><td>Physical Education</td><td>A </td></tr><tr><td>Aaron Richardson</td><td>Math</td><td>B </td></tr><tr><td>Aaron Richardson</td><td>English</td><td>C </td></tr><tr><td>Aaron Richardson</td><td>Science</td><td>D </td></tr><tr><td>Aaron Richardson</td><td>History</td><td>A </td></tr><tr><td>Aaron Richardson</td><td>Art</td><td>B </td></tr><tr><td>Aaron Richardson</td><td>Physical Education</td><td>C </td></tr><tr><td>Paisley Wood</td><td>Math</td><td>A </td></tr><tr><td>Paisley Wood</td><td>English</td><td>B </td></tr><tr><td>Paisley Wood</td><td>Science</td><td>C </td></tr><tr><td>Paisley Wood</td><td>History</td><td>A </td></tr><tr><td>Paisley Wood</td><td>Art</td><td>D </td></tr><tr><td>Paisley Wood</td><td>Physical Education</td><td>B </td></tr><tr><td>Luke Wright</td><td>Math</td><td>C </td></tr><tr><td>Luke Wright</td><td>English</td><td>A </td></tr><tr><td>Luke Wright</td><td>Science</td><td>B </td></tr><tr><td>Luke Wright</td><td>History</td><td>D </td></tr><tr><td>Luke Wright</td><td>Art</td><td>C </td></tr><tr><td>Luke Wright</td><td>Physical Education</td><td>D </td></tr><tr><td>Aurora Stone</td><td>Math</td><td>B </td></tr><tr><td>Aurora Stone</td><td>English</td><td>D </td></tr><tr><td>Aurora Stone</td><td>Science</td><td>C </td></tr><tr><td>Aurora Stone</td><td>History</td><td>A </td></tr><tr><td>Aurora Stone</td><td>Art</td><td>B </td></tr><tr><td>Aurora Stone</td><td>Physical Education</td><td>A </td></tr><tr><td>Christian Scott</td><td>Math</td><td>A </td></tr><tr><td>Christian Scott</td><td>English</td><td>C </td></tr><tr><td>Christian Scott</td><td>Science</td><td>D </td></tr><tr><td>Christian Scott</td><td>History</td><td>B </td></tr><tr><td>Christian Scott</td><td>Art</td><td>A </td></tr><tr><td>Christian Scott</td><td>Physical Education</td><td>C </td></tr><tr><td>Violet Torres</td><td>Math</td><td>C </td></tr><tr><td>Violet Torres</td><td>English</td><td>A </td></tr><tr><td>Violet Torres</td><td>Science</td><td>B </td></tr><tr><td>Violet Torres</td><td>History</td><td>D </td></tr><tr><td>Violet Torres</td><td>Art</td><td>C </td></tr><tr><td>Violet Torres</td><td>Physical Education</td><td>D </td></tr><tr><td>Adam Nguyen</td><td>Math</td><td>B </td></tr><tr><td>Adam Nguyen</td><td>English</td><td>C </td></tr><tr><td>Adam Nguyen</td><td>Science</td><td>D </td></tr><tr><td>Adam Nguyen</td><td>History</td><td>A </td></tr><tr><td>Adam Nguyen</td><td>Art</td><td>C </td></tr><tr><td>Adam Nguyen</td><td>Physical Education</td><td>A </td></tr><tr><td>Hazel Sanders</td><td>Math</td><td>D </td></tr><tr><td>Hazel Sanders</td><td>English</td><td>B </td></tr><tr><td>Hazel Sanders</td><td>Science</td><td>C </td></tr><tr><td>Hazel Sanders</td><td>History</td><td>A </td></tr><tr><td>Hazel Sanders</td><td>Art</td><td>B </td></tr><tr><td>Hazel Sanders</td><td>Physical Education</td><td>A </td></tr><tr><td>Dylan Gray</td><td>Math</td><td>A </td></tr><tr><td>Dylan Gray</td><td>English</td><td>C </td></tr><tr><td>Dylan Gray</td><td>Science</td><td>B </td></tr><tr><td>Dylan Gray</td><td>History</td><td>D </td></tr><tr><td>Dylan Gray</td><td>Art</td><td>A </td></tr><tr><td>Dylan Gray</td><td>Physical Education</td><td>C </td></tr><tr><td>Leah Long</td><td>Math</td><td>B </td></tr><tr><td>Leah Long</td><td>English</td><td>A </td></tr><tr><td>Leah Long</td><td>Science</td><td>C </td></tr><tr><td>Leah Long</td><td>History</td><td>B </td></tr><tr><td>Leah Long</td><td>Art</td><td>D </td></tr><tr><td>Leah Long</td><td>Physical Education</td><td>A </td></tr><tr><td>Sebastian Patterson</td><td>Math</td><td>C </td></tr><tr><td>Sebastian Patterson</td><td>English</td><td>B </td></tr><tr><td>Sebastian Patterson</td><td>Science</td><td>A </td></tr><tr><td>Sebastian Patterson</td><td>History</td><td>C </td></tr><tr><td>Sebastian Patterson</td><td>Art</td><td>B </td></tr><tr><td>Sebastian Patterson</td><td>Physical Education</td><td>D </td></tr><tr><td>Madeline Hughes</td><td>Math</td><td>D </td></tr><tr><td>Madeline Hughes</td><td>English</td><td>C </td></tr><tr><td>Madeline Hughes</td><td>Science</td><td>B </td></tr><tr><td>Madeline Hughes</td><td>History</td><td>A </td></tr><tr><td>Madeline Hughes</td><td>Art</td><td>C </td></tr><tr><td>Madeline Hughes</td><td>Physical Education</td><td>A </td></tr><tr><td>Eli Foster</td><td>Math</td><td>A </td></tr><tr><td>Eli Foster</td><td>English</td><td>D </td></tr><tr><td>Eli Foster</td><td>Science</td><td>C </td></tr><tr><td>Eli Foster</td><td>History</td><td>B </td></tr><tr><td>Eli Foster</td><td>Art</td><td>A </td></tr><tr><td>Eli Foster</td><td>Physical Education</td><td>C </td></tr><tr><td>Isla Ross</td><td>Math</td><td>C </td></tr><tr><td>Isla Ross</td><td>English</td><td>A </td></tr><tr><td>Isla Ross</td><td>Science</td><td>B </td></tr><tr><td>Isla Ross</td><td>History</td><td>D </td></tr><tr><td>Isla Ross</td><td>Art</td><td>C </td></tr><tr><td>Isla Ross</td><td>Physical Education</td><td>A </td></tr><tr><td>Hunter Howard</td><td>Math</td><td>B </td></tr><tr><td>Hunter Howard</td><td>English</td><td>C </td></tr><tr><td>Hunter Howard</td><td>Science</td><td>A </td></tr><tr><td>Hunter Howard</td><td>History</td><td>C </td></tr><tr><td>Hunter Howard</td><td>Art</td><td>B </td></tr><tr><td>Hunter Howard</td><td>Physical Education</td><td>D </td></tr><tr><td>Samantha Ward</td><td>Math</td><td>D </td></tr><tr><td>Samantha Ward</td><td>English</td><td>A </td></tr><tr><td>Samantha Ward</td><td>Science</td><td>B </td></tr><tr><td>Samantha Ward</td><td>History</td><td>C </td></tr><tr><td>Samantha Ward</td><td>Art</td><td>D </td></tr><tr><td>Samantha Ward</td><td>Physical Education</td><td>A </td></tr><tr><td>Carter Brooks</td><td>Math</td><td>C </td></tr><tr><td>Carter Brooks</td><td>English</td><td>B </td></tr><tr><td>Carter Brooks</td><td>Science</td><td>A </td></tr><tr><td>Carter Brooks</td><td>History</td><td>D </td></tr><tr><td>Carter Brooks</td><td>Art</td><td>C </td></tr><tr><td>Carter Brooks</td><td>Physical Education</td><td>A </td></tr><tr><td>Nora Price</td><td>Math</td><td>B </td></tr><tr><td>Nora Price</td><td>English</td><td>D </td></tr><tr><td>Nora Price</td><td>Science</td><td>C </td></tr><tr><td>Nora Price</td><td>History</td><td>A </td></tr><tr><td>Nora Price</td><td>Art</td><td>D </td></tr><tr><td>Nora Price</td><td>Physical Education</td><td>C </td></tr><tr><td>Adrian Russell</td><td>Math</td><td>A </td></tr><tr><td>Adrian Russell</td><td>English</td><td>C </td></tr><tr><td>Adrian Russell</td><td>Science</td><td>B </td></tr><tr><td>Adrian Russell</td><td>History</td><td>D </td></tr><tr><td>Adrian Russell</td><td>Art</td><td>C </td></tr><tr><td>Adrian Russell</td><td>Physical Education</td><td>A </td></tr><tr><td>Caroline Griffin</td><td>Math</td><td>C </td></tr><tr><td>Caroline Griffin</td><td>English</td><td>B </td></tr><tr><td>Caroline Griffin</td><td>Science</td><td>A </td></tr><tr><td>Caroline Griffin</td><td>History</td><td>B </td></tr><tr><td>Caroline Griffin</td><td>Art</td><td>D </td></tr><tr><td>Caroline Griffin</td><td>Physical Education</td><td>C </td></tr><tr><td>Jonathan Diaz</td><td>Math</td><td>B </td></tr><tr><td>Jonathan Diaz</td><td>English</td><td>D </td></tr><tr><td>Jonathan Diaz</td><td>Science</td><td>C </td></tr><tr><td>Jonathan Diaz</td><td>History</td><td>A </td></tr><tr><td>Jonathan Diaz</td><td>Art</td><td>B </td></tr><tr><td>Jonathan Diaz</td><td>Physical Education</td><td>A </td></tr><tr><td>Bella Hayes</td><td>Math</td><td>D </td></tr><tr><td>Bella Hayes</td><td>English</td><td>C </td></tr><tr><td>Bella Hayes</td><td>Science</td><td>A </td></tr><tr><td>Bella Hayes</td><td>History</td><td>B </td></tr><tr><td>Bella Hayes</td><td>Art</td><td>A </td></tr><tr><td>Bella Hayes</td><td>Physical Education</td><td>C </td></tr><tr><td>Levi Myers</td><td>Math</td><td>A </td></tr><tr><td>Levi Myers</td><td>English</td><td>B </td></tr><tr><td>Levi Myers</td><td>Science</td><td>C </td></tr><tr><td>Levi Myers</td><td>History</td><td>A </td></tr><tr><td>Levi Myers</td><td>Art</td><td>D </td></tr><tr><td>Levi Myers</td><td>Physical Education</td><td>B </td></tr><tr><td>Savannah Ford</td><td>Math</td><td>C </td></tr><tr><td>Savannah Ford</td><td>English</td><td>A </td></tr><tr><td>Savannah Ford</td><td>Science</td><td>B </td></tr><tr><td>Savannah Ford</td><td>History</td><td>D </td></tr><tr><td>Savannah Ford</td><td>Art</td><td>C </td></tr><tr><td>Savannah Ford</td><td>Physical Education</td><td>D </td></tr><tr><td>Owen Hamilton</td><td>Math</td><td>B </td></tr><tr><td>Owen Hamilton</td><td>English</td><td>C </td></tr><tr><td>Owen Hamilton</td><td>Science</td><td>A </td></tr><tr><td>Owen Hamilton</td><td>History</td><td>B </td></tr><tr><td>Owen Hamilton</td><td>Art</td><td>D </td></tr><tr><td>Owen Hamilton</td><td>Physical Education</td><td>A </td></tr><tr><td>Aubrey Graham</td><td>Math</td><td>C </td></tr><tr><td>Aubrey Graham</td><td>English</td><td>A </td></tr><tr><td>Aubrey Graham</td><td>Science</td><td>D </td></tr><tr><td>Aubrey Graham</td><td>History</td><td>C </td></tr><tr><td>Aubrey Graham</td><td>Art</td><td>A </td></tr><tr><td>Aubrey Graham</td><td>Physical Education</td><td>B </td></tr><tr><td>Jackson Cruz</td><td>Math</td><td>B </td></tr><tr><td>Jackson Cruz</td><td>English</td><td>C </td></tr><tr><td>Jackson Cruz</td><td>Science</td><td>A </td></tr><tr><td>Jackson Cruz</td><td>History</td><td>D </td></tr><tr><td>Jackson Cruz</td><td>Art</td><td>C </td></tr><tr><td>Jackson Cruz</td><td>Physical Education</td><td>A </td></tr><tr><td>Layla Owens</td><td>Math</td><td>D </td></tr><tr><td>Layla Owens</td><td>English</td><td>B </td></tr><tr><td>Layla Owens</td><td>Science</td><td>C </td></tr><tr><td>Layla Owens</td><td>History</td><td>A </td></tr><tr><td>Layla Owens</td><td>Art</td><td>D </td></tr><tr><td>Layla Owens</td><td>Physical Education</td><td>C </td></tr><tr><td>Julian Simpson</td><td>Math</td><td>B </td></tr><tr><td>Julian Simpson</td><td>English</td><td>C </td></tr><tr><td>Julian Simpson</td><td>Science</td><td>A </td></tr><tr><td>Julian Simpson</td><td>History</td><td>D </td></tr><tr><td>Julian Simpson</td><td>Art</td><td>C </td></tr><tr><td>Julian Simpson</td><td>Physical Education</td><td>B </td></tr><tr><td>Lila Henderson</td><td>Math</td><td>C </td></tr><tr><td>Lila Henderson</td><td>English</td><td>A </td></tr><tr><td>Lila Henderson</td><td>Science</td><td>B </td></tr><tr><td>Lila Henderson</td><td>History</td><td>C </td></tr><tr><td>Lila Henderson</td><td>Art</td><td>D </td></tr><tr><td>Lila Henderson</td><td>Physical Education</td><td>A </td></tr><tr><td>Ezra Cole</td><td>Math</td><td>D </td></tr><tr><td>Ezra Cole</td><td>English</td><td>C </td></tr><tr><td>Ezra Cole</td><td>Science</td><td>B </td></tr><tr><td>Ezra Cole</td><td>History</td><td>A </td></tr><tr><td>Ezra Cole</td><td>Art</td><td>C </td></tr><tr><td>Ezra Cole</td><td>Physical Education</td><td>D </td></tr><tr><td>Maya Wallace</td><td>Math</td><td>A </td></tr><tr><td>Maya Wallace</td><td>English</td><td>B </td></tr><tr><td>Maya Wallace</td><td>Science</td><td>D </td></tr><tr><td>Maya Wallace</td><td>History</td><td>C </td></tr><tr><td>Maya Wallace</td><td>Art</td><td>A </td></tr><tr><td>Maya Wallace</td><td>Physical Education</td><td>C </td></tr><tr><td>Isaiah Stephens</td><td>Math</td><td>B </td></tr><tr><td>Isaiah Stephens</td><td>English</td><td>C </td></tr><tr><td>Isaiah Stephens</td><td>Science</td><td>A </td></tr><tr><td>Isaiah Stephens</td><td>History</td><td>D </td></tr><tr><td>Isaiah Stephens</td><td>Art</td><td>C </td></tr><tr><td>Isaiah Stephens</td><td>Physical Education</td><td>A </td></tr><tr><td>Autumn Bennett</td><td>Math</td><td>D </td></tr><tr><td>Autumn Bennett</td><td>English</td><td>B </td></tr><tr><td>Autumn Bennett</td><td>Science</td><td>C </td></tr><tr><td>Autumn Bennett</td><td>History</td><td>A </td></tr><tr><td>Autumn Bennett</td><td>Art</td><td>B </td></tr><tr><td>Autumn Bennett</td><td>Physical Education</td><td>C </td></tr><tr><td>Hudson Barnes</td><td>Math</td><td>C </td></tr><tr><td>Hudson Barnes</td><td>English</td><td>A </td></tr><tr><td>Hudson Barnes</td><td>Science</td><td>B </td></tr><tr><td>Hudson Barnes</td><td>History</td><td>D </td></tr><tr><td>Hudson Barnes</td><td>Art</td><td>C </td></tr><tr><td>Hudson Barnes</td><td>Physical Education</td><td>D </td></tr><tr><td>Natalie Murray</td><td>Math</td><td>B </td></tr><tr><td>Natalie Murray</td><td>English</td><td>C </td></tr><tr><td>Natalie Murray</td><td>Science</td><td>A </td></tr><tr><td>Natalie Murray</td><td>History</td><td>B </td></tr><tr><td>Natalie Murray</td><td>Art</td><td>D </td></tr><tr><td>Natalie Murray</td><td>Physical Education</td><td>C </td></tr><tr><td>Grayson Reyes</td><td>Math</td><td>D </td></tr><tr><td>Grayson Reyes</td><td>English</td><td>B </td></tr><tr><td>Grayson Reyes</td><td>Science</td><td>C </td></tr><tr><td>Grayson Reyes</td><td>History</td><td>A </td></tr><tr><td>Grayson Reyes</td><td>Art</td><td>B </td></tr><tr><td>Grayson Reyes</td><td>Physical Education</td><td>D </td></tr><tr><td>Elena Mendoza</td><td>Math</td><td>C </td></tr><tr><td>Elena Mendoza</td><td>English</td><td>A </td></tr><tr><td>Elena Mendoza</td><td>Science</td><td>B </td></tr><tr><td>Elena Mendoza</td><td>History</td><td>D </td></tr><tr><td>Elena Mendoza</td><td>Art</td><td>C </td></tr><tr><td>Elena Mendoza</td><td>Physical Education</td><td>A </td></tr></table>"
                    },
                    "metadata": {}
                }
            ],
            "execution_count": 5
        },
        {
            "cell_type": "markdown",
            "source": [
                "Function to view Students by specific grades"
            ],
            "metadata": {
                "azdata_cell_guid": "701ad112-4ba0-49c2-9e05-971eb773d9fa"
            },
            "attachments": {}
        },
        {
            "cell_type": "code",
            "source": [
                "\r\n",
                "\r\n",
                "USE LabbSchool\r\n",
                "\r\n",
                "SELECT \r\n",
                "    s.FirstName + ' ' + s.LastName AS StudentName,\r\n",
                "    sub.SubjectName AS Course,\r\n",
                "    g.Grade\r\n",
                "FROM Grade g\r\n",
                "INNER JOIN Students s ON s.StudentId = g.Student_Id\r\n",
                "INNER JOIN [Subject] sub ON g.Subject_Id = sub.SubjectId\r\n",
                "WHERE g.Grade = 'E';\r\n",
                "--Search for tables by grade."
            ],
            "metadata": {
                "language": "sql",
                "azdata_cell_guid": "c8bf2f0c-fba0-4113-8218-8f9adb057b3b"
            },
            "outputs": [
                {
                    "output_type": "display_data",
                    "data": {
                        "text/html": "(2 rows affected)"
                    },
                    "metadata": {}
                },
                {
                    "output_type": "display_data",
                    "data": {
                        "text/html": "Total execution time: 00:00:00.008"
                    },
                    "metadata": {}
                },
                {
                    "output_type": "execute_result",
                    "metadata": {},
                    "execution_count": 4,
                    "data": {
                        "application/vnd.dataresource+json": {
                            "schema": {
                                "fields": [
                                    {
                                        "name": "StudentName"
                                    },
                                    {
                                        "name": "Course"
                                    },
                                    {
                                        "name": "Grade"
                                    }
                                ]
                            },
                            "data": [
                                {
                                    "StudentName": "Noah Jones",
                                    "Course": "Art",
                                    "Grade": "E "
                                },
                                {
                                    "StudentName": "Mia Rodriguez",
                                    "Course": "History",
                                    "Grade": "E "
                                }
                            ]
                        },
                        "text/html": [
                            "<table>",
                            "<tr><th>StudentName</th><th>Course</th><th>Grade</th></tr>",
                            "<tr><td>Noah Jones</td><td>Art</td><td>E </td></tr>",
                            "<tr><td>Mia Rodriguez</td><td>History</td><td>E </td></tr>",
                            "</table>"
                        ]
                    }
                }
            ],
            "execution_count": 4
        },
        {
            "cell_type": "markdown",
            "source": [
                "View list of staff by role or all in a stored procedure."
            ],
            "metadata": {
                "azdata_cell_guid": "06f02023-ccb8-4733-9e8f-26b8743937ec"
            },
            "attachments": {}
        },
        {
            "cell_type": "code",
            "source": [
                "\r\n",
                "\r\n",
                "CREATE PROCEDURE GetStaffByRole\r\n",
                "    @Role NVARCHAR(50) = NULL\r\n",
                "AS\r\n",
                "BEGIN\r\n",
                "    IF @Role IS NULL --If a specific role isn't requested this Procedure will list all staff members.\r\n",
                "    BEGIN\r\n",
                "        SELECT StaffId, FirstName, LastName, Email, Role\r\n",
                "        FROM Staff;\r\n",
                "    END\r\n",
                "    ELSE\r\n",
                "    BEGIN       \r\n",
                "        SELECT StaffId, FirstName, LastName, Email, Role\r\n",
                "        FROM Staff\r\n",
                "        WHERE Role = @Role;\r\n",
                "    END\r\n",
                "END;\r\n",
                "GO"
            ],
            "metadata": {
                "azdata_cell_guid": "28f56734-c6ed-4751-a3dc-d0aedb5bef35",
                "language": "sql"
            },
            "outputs": [
                {
                    "output_type": "error",
                    "evalue": "Msg 2714, Level 16, State 3, Procedure GetStaffByRole, Line 3\r\nThere is already an object named 'GetStaffByRole' in the database.",
                    "ename": "",
                    "traceback": []
                },
                {
                    "output_type": "display_data",
                    "data": {
                        "text/html": "Total execution time: 00:00:00.003"
                    },
                    "metadata": {}
                }
            ],
            "execution_count": 5
        },
        {
            "cell_type": "markdown",
            "source": [
                "Execevate procedure. if  @Role = NULL all staff will be shown."
            ],
            "metadata": {
                "language": "sql",
                "azdata_cell_guid": "152a3b9c-9e9e-4817-abbb-3667a8ab2a12"
            },
            "attachments": {}
        },
        {
            "cell_type": "code",
            "source": [
                "USE LabbSchool\r\n",
                "--Retrievs a list of the whole staff since it's not asked as below.\r\n",
                "EXEC GetStaffByRole;"
            ],
            "metadata": {
                "language": "sql",
                "azdata_cell_guid": "ba37ab09-42bf-4143-8fc4-2a7bc9da7381",
                "tags": []
            },
            "outputs": [
                {
                    "output_type": "display_data",
                    "data": {
                        "text/html": "(20 rows affected)"
                    },
                    "metadata": {}
                },
                {
                    "output_type": "display_data",
                    "data": {
                        "text/html": "Total execution time: 00:00:00.017"
                    },
                    "metadata": {}
                },
                {
                    "output_type": "execute_result",
                    "metadata": {},
                    "execution_count": 6,
                    "data": {
                        "application/vnd.dataresource+json": {
                            "schema": {
                                "fields": [
                                    {
                                        "name": "StaffId"
                                    },
                                    {
                                        "name": "FirstName"
                                    },
                                    {
                                        "name": "LastName"
                                    },
                                    {
                                        "name": "Email"
                                    },
                                    {
                                        "name": "Role"
                                    }
                                ]
                            },
                            "data": [
                                {
                                    "StaffId": "1",
                                    "FirstName": "John",
                                    "LastName": "Doe",
                                    "Email": "j.doe@highschool.com",
                                    "Role": "Principal"
                                },
                                {
                                    "StaffId": "2",
                                    "FirstName": "Mary",
                                    "LastName": "Smith",
                                    "Email": "m.smith@highschool.com",
                                    "Role": "Janitor"
                                },
                                {
                                    "StaffId": "3",
                                    "FirstName": "Emily",
                                    "LastName": "Johnson",
                                    "Email": "e.johnson@highschool.com",
                                    "Role": "School Nurse"
                                },
                                {
                                    "StaffId": "4",
                                    "FirstName": "Paul",
                                    "LastName": "Brown",
                                    "Email": "p.brown@highschool.com",
                                    "Role": "Counselor"
                                },
                                {
                                    "StaffId": "5",
                                    "FirstName": "Sophia",
                                    "LastName": "Miller",
                                    "Email": "s.miller@highschool.com",
                                    "Role": "Kitchen Chef"
                                },
                                {
                                    "StaffId": "6",
                                    "FirstName": "James",
                                    "LastName": "Anderson",
                                    "Email": "j.anderson@highschool.com",
                                    "Role": "Teacher"
                                },
                                {
                                    "StaffId": "7",
                                    "FirstName": "Linda",
                                    "LastName": "Taylor",
                                    "Email": "l.taylor@highschool.com",
                                    "Role": "Teacher"
                                },
                                {
                                    "StaffId": "8",
                                    "FirstName": "Robert",
                                    "LastName": "Moore",
                                    "Email": "r.moore@highschool.com",
                                    "Role": "Teacher"
                                },
                                {
                                    "StaffId": "9",
                                    "FirstName": "Patricia",
                                    "LastName": "Wilson",
                                    "Email": "p.wilson@highschool.com",
                                    "Role": "Teacher"
                                },
                                {
                                    "StaffId": "10",
                                    "FirstName": "Michael",
                                    "LastName": "Clark",
                                    "Email": "m.clark@highschool.com",
                                    "Role": "Teacher"
                                },
                                {
                                    "StaffId": "11",
                                    "FirstName": "Barbara",
                                    "LastName": "Hall",
                                    "Email": "b.hall@highschool.com",
                                    "Role": "Teacher"
                                },
                                {
                                    "StaffId": "12",
                                    "FirstName": "William",
                                    "LastName": "Young",
                                    "Email": "w.young@highschool.com",
                                    "Role": "Teacher"
                                },
                                {
                                    "StaffId": "13",
                                    "FirstName": "Elizabeth",
                                    "LastName": "Allen",
                                    "Email": "e.allen@highschool.com",
                                    "Role": "Teacher"
                                },
                                {
                                    "StaffId": "14",
                                    "FirstName": "Thomas",
                                    "LastName": "King",
                                    "Email": "t.king@highschool.com",
                                    "Role": "Teacher"
                                },
                                {
                                    "StaffId": "15",
                                    "FirstName": "Susan",
                                    "LastName": "Scott",
                                    "Email": "s.scott@highschool.com",
                                    "Role": "Teacher"
                                },
                                {
                                    "StaffId": "16",
                                    "FirstName": "Iron",
                                    "LastName": "Man",
                                    "Email": "Iron@Man.Com",
                                    "Role": "Janitor"
                                },
                                {
                                    "StaffId": "17",
                                    "FirstName": "Fredrik",
                                    "LastName": "Jonsson",
                                    "Email": "Fredrikandrejonson@hotmail.com",
                                    "Role": "Kitchen Chef"
                                },
                                {
                                    "StaffId": "18",
                                    "FirstName": "Therese",
                                    "LastName": "Olausson",
                                    "Email": "Therese90Olausson@gmail.com",
                                    "Role": "Counselor"
                                },
                                {
                                    "StaffId": "19",
                                    "FirstName": "Bruce",
                                    "LastName": "Wayne",
                                    "Email": "Bat@Cave.com",
                                    "Role": "School Nurse"
                                },
                                {
                                    "StaffId": "20",
                                    "FirstName": "Joker",
                                    "LastName": "Toker",
                                    "Email": "Joker@Toker.com",
                                    "Role": "Counselor"
                                }
                            ]
                        },
                        "text/html": [
                            "<table>",
                            "<tr><th>StaffId</th><th>FirstName</th><th>LastName</th><th>Email</th><th>Role</th></tr>",
                            "<tr><td>1</td><td>John</td><td>Doe</td><td>j.doe@highschool.com</td><td>Principal</td></tr>",
                            "<tr><td>2</td><td>Mary</td><td>Smith</td><td>m.smith@highschool.com</td><td>Janitor</td></tr>",
                            "<tr><td>3</td><td>Emily</td><td>Johnson</td><td>e.johnson@highschool.com</td><td>School Nurse</td></tr>",
                            "<tr><td>4</td><td>Paul</td><td>Brown</td><td>p.brown@highschool.com</td><td>Counselor</td></tr>",
                            "<tr><td>5</td><td>Sophia</td><td>Miller</td><td>s.miller@highschool.com</td><td>Kitchen Chef</td></tr>",
                            "<tr><td>6</td><td>James</td><td>Anderson</td><td>j.anderson@highschool.com</td><td>Teacher</td></tr>",
                            "<tr><td>7</td><td>Linda</td><td>Taylor</td><td>l.taylor@highschool.com</td><td>Teacher</td></tr>",
                            "<tr><td>8</td><td>Robert</td><td>Moore</td><td>r.moore@highschool.com</td><td>Teacher</td></tr>",
                            "<tr><td>9</td><td>Patricia</td><td>Wilson</td><td>p.wilson@highschool.com</td><td>Teacher</td></tr>",
                            "<tr><td>10</td><td>Michael</td><td>Clark</td><td>m.clark@highschool.com</td><td>Teacher</td></tr>",
                            "<tr><td>11</td><td>Barbara</td><td>Hall</td><td>b.hall@highschool.com</td><td>Teacher</td></tr>",
                            "<tr><td>12</td><td>William</td><td>Young</td><td>w.young@highschool.com</td><td>Teacher</td></tr>",
                            "<tr><td>13</td><td>Elizabeth</td><td>Allen</td><td>e.allen@highschool.com</td><td>Teacher</td></tr>",
                            "<tr><td>14</td><td>Thomas</td><td>King</td><td>t.king@highschool.com</td><td>Teacher</td></tr>",
                            "<tr><td>15</td><td>Susan</td><td>Scott</td><td>s.scott@highschool.com</td><td>Teacher</td></tr>",
                            "<tr><td>16</td><td>Iron</td><td>Man</td><td>Iron@Man.Com</td><td>Janitor</td></tr>",
                            "<tr><td>17</td><td>Fredrik</td><td>Jonsson</td><td>Fredrikandrejonson@hotmail.com</td><td>Kitchen Chef</td></tr>",
                            "<tr><td>18</td><td>Therese</td><td>Olausson</td><td>Therese90Olausson@gmail.com</td><td>Counselor</td></tr>",
                            "<tr><td>19</td><td>Bruce</td><td>Wayne</td><td>Bat@Cave.com</td><td>School Nurse</td></tr>",
                            "<tr><td>20</td><td>Joker</td><td>Toker</td><td>Joker@Toker.com</td><td>Counselor</td></tr>",
                            "</table>"
                        ]
                    }
                }
            ],
            "execution_count": 6
        },
        {
            "cell_type": "code",
            "source": [
                "USE LabbSchool\r\n",
                "--Gets list of employees based on role.\r\n",
                "EXEC GetStaffByRole @Role = 'Teacher';"
            ],
            "metadata": {
                "language": "sql",
                "azdata_cell_guid": "cc451612-0ac2-46ae-adfc-6781c042a08c"
            },
            "outputs": [
                {
                    "output_type": "display_data",
                    "data": {
                        "text/html": "(10 rows affected)"
                    },
                    "metadata": {}
                },
                {
                    "output_type": "display_data",
                    "data": {
                        "text/html": "Total execution time: 00:00:00.012"
                    },
                    "metadata": {}
                },
                {
                    "output_type": "execute_result",
                    "metadata": {},
                    "execution_count": 7,
                    "data": {
                        "application/vnd.dataresource+json": {
                            "schema": {
                                "fields": [
                                    {
                                        "name": "StaffId"
                                    },
                                    {
                                        "name": "FirstName"
                                    },
                                    {
                                        "name": "LastName"
                                    },
                                    {
                                        "name": "Email"
                                    },
                                    {
                                        "name": "Role"
                                    }
                                ]
                            },
                            "data": [
                                {
                                    "StaffId": "6",
                                    "FirstName": "James",
                                    "LastName": "Anderson",
                                    "Email": "j.anderson@highschool.com",
                                    "Role": "Teacher"
                                },
                                {
                                    "StaffId": "7",
                                    "FirstName": "Linda",
                                    "LastName": "Taylor",
                                    "Email": "l.taylor@highschool.com",
                                    "Role": "Teacher"
                                },
                                {
                                    "StaffId": "8",
                                    "FirstName": "Robert",
                                    "LastName": "Moore",
                                    "Email": "r.moore@highschool.com",
                                    "Role": "Teacher"
                                },
                                {
                                    "StaffId": "9",
                                    "FirstName": "Patricia",
                                    "LastName": "Wilson",
                                    "Email": "p.wilson@highschool.com",
                                    "Role": "Teacher"
                                },
                                {
                                    "StaffId": "10",
                                    "FirstName": "Michael",
                                    "LastName": "Clark",
                                    "Email": "m.clark@highschool.com",
                                    "Role": "Teacher"
                                },
                                {
                                    "StaffId": "11",
                                    "FirstName": "Barbara",
                                    "LastName": "Hall",
                                    "Email": "b.hall@highschool.com",
                                    "Role": "Teacher"
                                },
                                {
                                    "StaffId": "12",
                                    "FirstName": "William",
                                    "LastName": "Young",
                                    "Email": "w.young@highschool.com",
                                    "Role": "Teacher"
                                },
                                {
                                    "StaffId": "13",
                                    "FirstName": "Elizabeth",
                                    "LastName": "Allen",
                                    "Email": "e.allen@highschool.com",
                                    "Role": "Teacher"
                                },
                                {
                                    "StaffId": "14",
                                    "FirstName": "Thomas",
                                    "LastName": "King",
                                    "Email": "t.king@highschool.com",
                                    "Role": "Teacher"
                                },
                                {
                                    "StaffId": "15",
                                    "FirstName": "Susan",
                                    "LastName": "Scott",
                                    "Email": "s.scott@highschool.com",
                                    "Role": "Teacher"
                                }
                            ]
                        },
                        "text/html": [
                            "<table>",
                            "<tr><th>StaffId</th><th>FirstName</th><th>LastName</th><th>Email</th><th>Role</th></tr>",
                            "<tr><td>6</td><td>James</td><td>Anderson</td><td>j.anderson@highschool.com</td><td>Teacher</td></tr>",
                            "<tr><td>7</td><td>Linda</td><td>Taylor</td><td>l.taylor@highschool.com</td><td>Teacher</td></tr>",
                            "<tr><td>8</td><td>Robert</td><td>Moore</td><td>r.moore@highschool.com</td><td>Teacher</td></tr>",
                            "<tr><td>9</td><td>Patricia</td><td>Wilson</td><td>p.wilson@highschool.com</td><td>Teacher</td></tr>",
                            "<tr><td>10</td><td>Michael</td><td>Clark</td><td>m.clark@highschool.com</td><td>Teacher</td></tr>",
                            "<tr><td>11</td><td>Barbara</td><td>Hall</td><td>b.hall@highschool.com</td><td>Teacher</td></tr>",
                            "<tr><td>12</td><td>William</td><td>Young</td><td>w.young@highschool.com</td><td>Teacher</td></tr>",
                            "<tr><td>13</td><td>Elizabeth</td><td>Allen</td><td>e.allen@highschool.com</td><td>Teacher</td></tr>",
                            "<tr><td>14</td><td>Thomas</td><td>King</td><td>t.king@highschool.com</td><td>Teacher</td></tr>",
                            "<tr><td>15</td><td>Susan</td><td>Scott</td><td>s.scott@highschool.com</td><td>Teacher</td></tr>",
                            "</table>"
                        ]
                    }
                }
            ],
            "execution_count": 7
        },
        {
            "cell_type": "markdown",
            "source": [
                "- \\[ \\] Hämta en lista med alla ämnen och det snittbetyg som eleverna fått i det ämnet samt det högsta och lägsta betyget som någon fått i kursen.\n",
                "    \n",
                "    Här får databasadministratören se en lista med alla ämnen i databasen, snittbetyget samt det högsta och lägsta betyget för varje ämne."
            ],
            "metadata": {
                "language": "sql",
                "azdata_cell_guid": "ae6c1477-59f2-4fba-addc-2f8c602a2785"
            },
            "attachments": {}
        },
        {
            "cell_type": "code",
            "source": [
                "USE LabbSchool\r\n",
                "\r\n",
                "SELECT \r\n",
                "    s.SubjectName AS Subject,\r\n",
                "    AVG(CASE\r\n",
                "            WHEN g.Grade = 'A' THEN 5\r\n",
                "            WHEN g.Grade = 'B' THEN 4\r\n",
                "            WHEN g.Grade = 'C' THEN 3\r\n",
                "            WHEN g.Grade = 'D' THEN 2\r\n",
                "            WHEN g.Grade = 'E' THEN 1\r\n",
                "            WHEN g.Grade = 'F' THEN 0\r\n",
                "            ELSE NULL\r\n",
                "        END) AS AverageGrade,\r\n",
                "    MAX(CASE \r\n",
                "            WHEN g.Grade = 'A' THEN 5\r\n",
                "            WHEN g.Grade = 'B' THEN 4\r\n",
                "            WHEN g.Grade = 'C' THEN 3\r\n",
                "            WHEN g.Grade = 'D' THEN 2\r\n",
                "            WHEN g.Grade = 'E' THEN 1\r\n",
                "            WHEN g.Grade = 'F' THEN 0\r\n",
                "            ELSE NULL\r\n",
                "        END) AS HighestGrade,\r\n",
                "    MIN(CASE \r\n",
                "            WHEN g.Grade = 'A' THEN 5\r\n",
                "            WHEN g.Grade = 'B' THEN 4\r\n",
                "            WHEN g.Grade = 'C' THEN 3\r\n",
                "            WHEN g.Grade = 'D' THEN 2\r\n",
                "            WHEN g.Grade = 'E' THEN 1\r\n",
                "            WHEN g.Grade = 'F' THEN 0\r\n",
                "            ELSE NULL\r\n",
                "        END) AS LowestGrade\r\n",
                "FROM \r\n",
                "    Subject s\r\n",
                "LEFT JOIN \r\n",
                "    Grade g ON s.SubjectId = g.Subject_Id\r\n",
                "GROUP BY \r\n",
                "    s.SubjectName;\r\n",
                "   \r\n",
                ""
            ],
            "metadata": {
                "language": "sql",
                "azdata_cell_guid": "1c80406d-65bd-4dc0-a5fc-82b65edacbe3"
            },
            "outputs": [
                {
                    "output_type": "display_data",
                    "data": {
                        "text/html": "(6 rows affected)"
                    },
                    "metadata": {}
                },
                {
                    "output_type": "display_data",
                    "data": {
                        "text/html": "Total execution time: 00:00:00.010"
                    },
                    "metadata": {}
                },
                {
                    "output_type": "execute_result",
                    "metadata": {},
                    "execution_count": 41,
                    "data": {
                        "application/vnd.dataresource+json": {
                            "schema": {
                                "fields": [
                                    {
                                        "name": "Subject"
                                    },
                                    {
                                        "name": "AverageGrade"
                                    },
                                    {
                                        "name": "HighestGrade"
                                    },
                                    {
                                        "name": "LowestGrade"
                                    }
                                ]
                            },
                            "data": [
                                {
                                    "Subject": "Art",
                                    "AverageGrade": "3",
                                    "HighestGrade": "5",
                                    "LowestGrade": "1"
                                },
                                {
                                    "Subject": "English",
                                    "AverageGrade": "3",
                                    "HighestGrade": "5",
                                    "LowestGrade": "2"
                                },
                                {
                                    "Subject": "History",
                                    "AverageGrade": "3",
                                    "HighestGrade": "5",
                                    "LowestGrade": "1"
                                },
                                {
                                    "Subject": "Math",
                                    "AverageGrade": "3",
                                    "HighestGrade": "5",
                                    "LowestGrade": "2"
                                },
                                {
                                    "Subject": "Physical Education",
                                    "AverageGrade": "3",
                                    "HighestGrade": "5",
                                    "LowestGrade": "2"
                                },
                                {
                                    "Subject": "Science",
                                    "AverageGrade": "3",
                                    "HighestGrade": "5",
                                    "LowestGrade": "2"
                                }
                            ]
                        },
                        "text/html": [
                            "<table>",
                            "<tr><th>Subject</th><th>AverageGrade</th><th>HighestGrade</th><th>LowestGrade</th></tr>",
                            "<tr><td>Art</td><td>3</td><td>5</td><td>1</td></tr>",
                            "<tr><td>English</td><td>3</td><td>5</td><td>2</td></tr>",
                            "<tr><td>History</td><td>3</td><td>5</td><td>1</td></tr>",
                            "<tr><td>Math</td><td>3</td><td>5</td><td>2</td></tr>",
                            "<tr><td>Physical Education</td><td>3</td><td>5</td><td>2</td></tr>",
                            "<tr><td>Science</td><td>3</td><td>5</td><td>2</td></tr>",
                            "</table>"
                        ]
                    }
                }
            ],
            "execution_count": 41
        },
        {
            "cell_type": "markdown",
            "source": [
                "## Made a list of average grade in total of each student in a certain class."
            ],
            "metadata": {
                "azdata_cell_guid": "3face06e-4fcb-466b-a884-04415f6f70cc"
            },
            "attachments": {}
        },
        {
            "cell_type": "code",
            "source": [
                "USE LabbSchool\r\n",
                "\r\n",
                "SELECT    \r\n",
                "    s.FirstName + ' ' + s.LastName AS Student,\r\n",
                "    \r\n",
                "        CAST(AVG(CASE\r\n",
                "         WHEN g.Grade = 'A' THEN CAST(5 AS DECIMAL(10,2))\r\n",
                "         WHEN g.Grade = 'B' THEN CAST(4 AS DECIMAL(10,2))\r\n",
                "         WHEN g.Grade = 'C' THEN CAST(3 AS DECIMAL(10,2))\r\n",
                "         WHEN g.Grade = 'D' THEN CAST(2 AS DECIMAL(10,2))\r\n",
                "         WHEN g.Grade = 'E' THEN CAST(1 AS DECIMAL(10,2))\r\n",
                "         WHEN g.Grade = 'F' THEN CAST(0 AS DECIMAL(10,2))     \r\n",
                "        END) AS DECIMAL (10,2)) AverageGrade,\r\n",
                "\r\n",
                "        SUM(CASE\r\n",
                "            WHEN g.Grade = 'A' THEN 5\r\n",
                "            WHEN g.Grade = 'B' THEN 4\r\n",
                "            WHEN g.Grade = 'C' THEN 3\r\n",
                "            WHEN g.Grade = 'D' THEN 2\r\n",
                "            WHEN g.Grade = 'E' THEN 1\r\n",
                "            WHEN g.Grade = 'F' THEN 0    \r\n",
                "        END) AS TotalGrade\r\n",
                "FROM \r\n",
                "    Students s\r\n",
                "LEFT JOIN \r\n",
                "    Grade g ON s.StudentId = g.Student_Id\r\n",
                "LEFT JOIN\r\n",
                "    Class_Students cs ON s.StudentId = cs.StudentId\r\n",
                "LEFT JOIN\r\n",
                "    Class c ON cs.ClassId = c.ClassId\r\n",
                "\r\n",
                "WHERE c.ClassName = '7B' \r\n",
                "\r\n",
                "GROUP BY \r\n",
                "    s.FirstName, s.LastName\r\n",
                "ORDER BY \r\n",
                "    TotalGrade DESC;\r\n",
                "      \r\n",
                ""
            ],
            "metadata": {
                "azdata_cell_guid": "7fdd61c1-279c-4cd2-ba7c-6905b0d3f2de",
                "language": "sql"
            },
            "outputs": [
                {
                    "output_type": "display_data",
                    "data": {
                        "text/html": "(10 rows affected)"
                    },
                    "metadata": {}
                },
                {
                    "output_type": "display_data",
                    "data": {
                        "text/html": "Total execution time: 00:00:00.012"
                    },
                    "metadata": {}
                },
                {
                    "output_type": "execute_result",
                    "metadata": {},
                    "execution_count": 39,
                    "data": {
                        "application/vnd.dataresource+json": {
                            "schema": {
                                "fields": [
                                    {
                                        "name": "Student"
                                    },
                                    {
                                        "name": "AverageGrade"
                                    },
                                    {
                                        "name": "TotalGrade"
                                    }
                                ]
                            },
                            "data": [
                                {
                                    "Student": "Evelyn Hernandez",
                                    "AverageGrade": "3.83",
                                    "TotalGrade": "23"
                                },
                                {
                                    "Student": "Michael Jackson",
                                    "AverageGrade": "3.67",
                                    "TotalGrade": "22"
                                },
                                {
                                    "Student": "Benjamin Anderson",
                                    "AverageGrade": "3.67",
                                    "TotalGrade": "22"
                                },
                                {
                                    "Student": "Charlotte Wilson",
                                    "AverageGrade": "3.67",
                                    "TotalGrade": "22"
                                },
                                {
                                    "Student": "James Lopez",
                                    "AverageGrade": "3.67",
                                    "TotalGrade": "22"
                                },
                                {
                                    "Student": "Harper Martin",
                                    "AverageGrade": "3.67",
                                    "TotalGrade": "22"
                                },
                                {
                                    "Student": "Alexander Moore",
                                    "AverageGrade": "3.50",
                                    "TotalGrade": "21"
                                },
                                {
                                    "Student": "Henry Taylor",
                                    "AverageGrade": "3.50",
                                    "TotalGrade": "21"
                                },
                                {
                                    "Student": "Amelia Thomas",
                                    "AverageGrade": "3.50",
                                    "TotalGrade": "21"
                                },
                                {
                                    "Student": "Abigail Lee",
                                    "AverageGrade": "3.33",
                                    "TotalGrade": "20"
                                }
                            ]
                        },
                        "text/html": [
                            "<table>",
                            "<tr><th>Student</th><th>AverageGrade</th><th>TotalGrade</th></tr>",
                            "<tr><td>Evelyn Hernandez</td><td>3.83</td><td>23</td></tr>",
                            "<tr><td>Michael Jackson</td><td>3.67</td><td>22</td></tr>",
                            "<tr><td>Benjamin Anderson</td><td>3.67</td><td>22</td></tr>",
                            "<tr><td>Charlotte Wilson</td><td>3.67</td><td>22</td></tr>",
                            "<tr><td>James Lopez</td><td>3.67</td><td>22</td></tr>",
                            "<tr><td>Harper Martin</td><td>3.67</td><td>22</td></tr>",
                            "<tr><td>Alexander Moore</td><td>3.50</td><td>21</td></tr>",
                            "<tr><td>Henry Taylor</td><td>3.50</td><td>21</td></tr>",
                            "<tr><td>Amelia Thomas</td><td>3.50</td><td>21</td></tr>",
                            "<tr><td>Abigail Lee</td><td>3.33</td><td>20</td></tr>",
                            "</table>"
                        ]
                    }
                }
            ],
            "execution_count": 39
        },
        {
            "cell_type": "markdown",
            "source": [
                "Add new students."
            ],
            "metadata": {
                "azdata_cell_guid": "f7f23c20-48bf-4750-b754-172f51b7e9c6"
            },
            "attachments": {}
        },
        {
            "cell_type": "code",
            "source": [
                "USE LabbSchool\r\n",
                "\r\n",
                "INSERT INTO Students (FirstName, LastName, Email, DoB)\r\n",
                "VALUES ('Johnny','Cash','Kontant@Johnny','1932-02-26')"
            ],
            "metadata": {
                "azdata_cell_guid": "624300f1-bddd-4029-a723-8798af9cc11f",
                "language": "sql"
            },
            "outputs": [
                {
                    "output_type": "display_data",
                    "data": {
                        "text/html": "(1 row affected)"
                    },
                    "metadata": {}
                },
                {
                    "output_type": "display_data",
                    "data": {
                        "text/html": "Total execution time: 00:00:00.007"
                    },
                    "metadata": {}
                }
            ],
            "execution_count": 9
        }
    ]
}